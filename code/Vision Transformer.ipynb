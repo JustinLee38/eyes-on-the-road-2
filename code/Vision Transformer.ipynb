{
 "cells": [
  {
   "cell_type": "code",
   "execution_count": 4,
   "id": "ce901e50",
   "metadata": {},
   "outputs": [
    {
     "name": "stdout",
     "output_type": "stream",
     "text": [
      "Requirement already satisfied: transformers in c:\\users\\justi\\anaconda3\\envs\\cs231n-finalproject\\lib\\site-packages (4.19.2)\n",
      "Requirement already satisfied: tokenizers!=0.11.3,<0.13,>=0.11.1 in c:\\users\\justi\\anaconda3\\envs\\cs231n-finalproject\\lib\\site-packages (from transformers) (0.12.1)\n",
      "Requirement already satisfied: pyyaml>=5.1 in c:\\users\\justi\\anaconda3\\envs\\cs231n-finalproject\\lib\\site-packages (from transformers) (6.0)\n",
      "Requirement already satisfied: requests in c:\\users\\justi\\anaconda3\\envs\\cs231n-finalproject\\lib\\site-packages (from transformers) (2.27.1)\n",
      "Requirement already satisfied: huggingface-hub<1.0,>=0.1.0 in c:\\users\\justi\\anaconda3\\envs\\cs231n-finalproject\\lib\\site-packages (from transformers) (0.7.0)\n",
      "Requirement already satisfied: tqdm>=4.27 in c:\\users\\justi\\anaconda3\\envs\\cs231n-finalproject\\lib\\site-packages (from transformers) (4.64.0)\n",
      "Requirement already satisfied: packaging>=20.0 in c:\\users\\justi\\anaconda3\\envs\\cs231n-finalproject\\lib\\site-packages (from transformers) (21.3)\n",
      "Requirement already satisfied: regex!=2019.12.17 in c:\\users\\justi\\anaconda3\\envs\\cs231n-finalproject\\lib\\site-packages (from transformers) (2022.4.24)\n",
      "Requirement already satisfied: numpy>=1.17 in c:\\users\\justi\\anaconda3\\envs\\cs231n-finalproject\\lib\\site-packages (from transformers) (1.21.5)\n",
      "Requirement already satisfied: importlib-metadata in c:\\users\\justi\\anaconda3\\envs\\cs231n-finalproject\\lib\\site-packages (from transformers) (4.11.3)\n",
      "Requirement already satisfied: filelock in c:\\users\\justi\\anaconda3\\envs\\cs231n-finalproject\\lib\\site-packages (from transformers) (3.7.1)\n",
      "Requirement already satisfied: typing-extensions>=3.7.4.3 in c:\\users\\justi\\anaconda3\\envs\\cs231n-finalproject\\lib\\site-packages (from huggingface-hub<1.0,>=0.1.0->transformers) (4.1.1)\n",
      "Requirement already satisfied: pyparsing!=3.0.5,>=2.0.2 in c:\\users\\justi\\anaconda3\\envs\\cs231n-finalproject\\lib\\site-packages (from packaging>=20.0->transformers) (3.0.4)\n",
      "Requirement already satisfied: colorama in c:\\users\\justi\\anaconda3\\envs\\cs231n-finalproject\\lib\\site-packages (from tqdm>=4.27->transformers) (0.4.4)\n",
      "Requirement already satisfied: zipp>=0.5 in c:\\users\\justi\\anaconda3\\envs\\cs231n-finalproject\\lib\\site-packages (from importlib-metadata->transformers) (3.8.0)\n",
      "Requirement already satisfied: certifi>=2017.4.17 in c:\\users\\justi\\anaconda3\\envs\\cs231n-finalproject\\lib\\site-packages (from requests->transformers) (2022.5.18.1)\n",
      "Requirement already satisfied: idna<4,>=2.5 in c:\\users\\justi\\anaconda3\\envs\\cs231n-finalproject\\lib\\site-packages (from requests->transformers) (3.3)\n",
      "Requirement already satisfied: charset-normalizer~=2.0.0 in c:\\users\\justi\\anaconda3\\envs\\cs231n-finalproject\\lib\\site-packages (from requests->transformers) (2.0.4)\n",
      "Requirement already satisfied: urllib3<1.27,>=1.21.1 in c:\\users\\justi\\anaconda3\\envs\\cs231n-finalproject\\lib\\site-packages (from requests->transformers) (1.26.9)\n"
     ]
    }
   ],
   "source": [
    "!pip install transformers\n"
   ]
  },
  {
   "cell_type": "code",
   "execution_count": 5,
   "id": "e0ae1d0e",
   "metadata": {},
   "outputs": [
    {
     "name": "stdout",
     "output_type": "stream",
     "text": [
      "Collecting datasets\n",
      "  Downloading datasets-2.2.2-py3-none-any.whl (346 kB)\n",
      "     -------------------------------------- 346.8/346.8 kB 4.3 MB/s eta 0:00:00\n",
      "Requirement already satisfied: packaging in c:\\users\\justi\\anaconda3\\envs\\cs231n-finalproject\\lib\\site-packages (from datasets) (21.3)\n",
      "Requirement already satisfied: tqdm>=4.62.1 in c:\\users\\justi\\anaconda3\\envs\\cs231n-finalproject\\lib\\site-packages (from datasets) (4.64.0)\n",
      "Collecting pyarrow>=6.0.0\n",
      "  Downloading pyarrow-8.0.0-cp37-cp37m-win_amd64.whl (17.8 MB)\n",
      "     --------------------------------------- 17.8/17.8 MB 26.2 MB/s eta 0:00:00\n",
      "Requirement already satisfied: requests>=2.19.0 in c:\\users\\justi\\anaconda3\\envs\\cs231n-finalproject\\lib\\site-packages (from datasets) (2.27.1)\n",
      "Collecting fsspec[http]>=2021.05.0\n",
      "  Downloading fsspec-2022.5.0-py3-none-any.whl (140 kB)\n",
      "     ---------------------------------------- 140.6/140.6 kB ? eta 0:00:00\n",
      "Requirement already satisfied: importlib-metadata in c:\\users\\justi\\anaconda3\\envs\\cs231n-finalproject\\lib\\site-packages (from datasets) (4.11.3)\n",
      "Collecting pandas\n",
      "  Downloading pandas-1.1.5-cp37-cp37m-win_amd64.whl (8.7 MB)\n",
      "     ---------------------------------------- 8.7/8.7 MB 28.0 MB/s eta 0:00:00\n",
      "Collecting aiohttp\n",
      "  Downloading aiohttp-3.8.1-cp37-cp37m-win_amd64.whl (551 kB)\n",
      "     ------------------------------------- 551.8/551.8 kB 11.5 MB/s eta 0:00:00\n",
      "Collecting multiprocess\n",
      "  Downloading multiprocess-0.70.13-py37-none-any.whl (115 kB)\n",
      "     -------------------------------------- 115.1/115.1 kB 7.0 MB/s eta 0:00:00\n",
      "Requirement already satisfied: numpy>=1.17 in c:\\users\\justi\\anaconda3\\envs\\cs231n-finalproject\\lib\\site-packages (from datasets) (1.21.5)\n",
      "Collecting dill<0.3.5\n",
      "  Downloading dill-0.3.4-py2.py3-none-any.whl (86 kB)\n",
      "     ---------------------------------------- 86.9/86.9 kB ? eta 0:00:00\n",
      "Collecting responses<0.19\n",
      "  Downloading responses-0.18.0-py3-none-any.whl (38 kB)\n",
      "Collecting xxhash\n",
      "  Downloading xxhash-3.0.0-cp37-cp37m-win_amd64.whl (29 kB)\n",
      "Requirement already satisfied: huggingface-hub<1.0.0,>=0.1.0 in c:\\users\\justi\\anaconda3\\envs\\cs231n-finalproject\\lib\\site-packages (from datasets) (0.7.0)\n",
      "Requirement already satisfied: typing-extensions>=3.7.4.3 in c:\\users\\justi\\anaconda3\\envs\\cs231n-finalproject\\lib\\site-packages (from huggingface-hub<1.0.0,>=0.1.0->datasets) (4.1.1)\n",
      "Requirement already satisfied: pyyaml>=5.1 in c:\\users\\justi\\anaconda3\\envs\\cs231n-finalproject\\lib\\site-packages (from huggingface-hub<1.0.0,>=0.1.0->datasets) (6.0)\n",
      "Requirement already satisfied: filelock in c:\\users\\justi\\anaconda3\\envs\\cs231n-finalproject\\lib\\site-packages (from huggingface-hub<1.0.0,>=0.1.0->datasets) (3.7.1)\n",
      "Requirement already satisfied: pyparsing!=3.0.5,>=2.0.2 in c:\\users\\justi\\anaconda3\\envs\\cs231n-finalproject\\lib\\site-packages (from packaging->datasets) (3.0.4)\n",
      "Requirement already satisfied: idna<4,>=2.5 in c:\\users\\justi\\anaconda3\\envs\\cs231n-finalproject\\lib\\site-packages (from requests>=2.19.0->datasets) (3.3)\n",
      "Requirement already satisfied: certifi>=2017.4.17 in c:\\users\\justi\\anaconda3\\envs\\cs231n-finalproject\\lib\\site-packages (from requests>=2.19.0->datasets) (2022.5.18.1)\n",
      "Requirement already satisfied: urllib3<1.27,>=1.21.1 in c:\\users\\justi\\anaconda3\\envs\\cs231n-finalproject\\lib\\site-packages (from requests>=2.19.0->datasets) (1.26.9)\n",
      "Requirement already satisfied: charset-normalizer~=2.0.0 in c:\\users\\justi\\anaconda3\\envs\\cs231n-finalproject\\lib\\site-packages (from requests>=2.19.0->datasets) (2.0.4)\n",
      "Requirement already satisfied: colorama in c:\\users\\justi\\anaconda3\\envs\\cs231n-finalproject\\lib\\site-packages (from tqdm>=4.62.1->datasets) (0.4.4)\n",
      "Collecting asynctest==0.13.0\n",
      "  Downloading asynctest-0.13.0-py3-none-any.whl (26 kB)\n",
      "Collecting async-timeout<5.0,>=4.0.0a3\n",
      "  Downloading async_timeout-4.0.2-py3-none-any.whl (5.8 kB)\n",
      "Requirement already satisfied: attrs>=17.3.0 in c:\\users\\justi\\anaconda3\\envs\\cs231n-finalproject\\lib\\site-packages (from aiohttp->datasets) (21.4.0)\n",
      "Collecting multidict<7.0,>=4.5\n",
      "  Downloading multidict-6.0.2-cp37-cp37m-win_amd64.whl (27 kB)\n",
      "Collecting frozenlist>=1.1.1\n",
      "  Downloading frozenlist-1.3.0-cp37-cp37m-win_amd64.whl (33 kB)\n",
      "Collecting yarl<2.0,>=1.0\n",
      "  Downloading yarl-1.7.2-cp37-cp37m-win_amd64.whl (121 kB)\n",
      "     ---------------------------------------- 121.3/121.3 kB ? eta 0:00:00\n",
      "Collecting aiosignal>=1.1.2\n",
      "  Downloading aiosignal-1.2.0-py3-none-any.whl (8.2 kB)\n",
      "Requirement already satisfied: zipp>=0.5 in c:\\users\\justi\\anaconda3\\envs\\cs231n-finalproject\\lib\\site-packages (from importlib-metadata->datasets) (3.8.0)\n",
      "Collecting multiprocess\n",
      "  Downloading multiprocess-0.70.12.2-py37-none-any.whl (112 kB)\n",
      "     ---------------------------------------- 112.1/112.1 kB ? eta 0:00:00\n",
      "Requirement already satisfied: python-dateutil>=2.7.3 in c:\\users\\justi\\anaconda3\\envs\\cs231n-finalproject\\lib\\site-packages (from pandas->datasets) (2.8.2)\n",
      "Collecting pytz>=2017.2\n",
      "  Downloading pytz-2022.1-py2.py3-none-any.whl (503 kB)\n",
      "     ------------------------------------- 503.5/503.5 kB 32.9 MB/s eta 0:00:00\n",
      "Requirement already satisfied: six>=1.5 in c:\\users\\justi\\anaconda3\\envs\\cs231n-finalproject\\lib\\site-packages (from python-dateutil>=2.7.3->pandas->datasets) (1.16.0)\n",
      "Installing collected packages: pytz, xxhash, pyarrow, multidict, fsspec, frozenlist, dill, asynctest, async-timeout, yarl, responses, pandas, multiprocess, aiosignal, aiohttp, datasets\n",
      "Successfully installed aiohttp-3.8.1 aiosignal-1.2.0 async-timeout-4.0.2 asynctest-0.13.0 datasets-2.2.2 dill-0.3.4 frozenlist-1.3.0 fsspec-2022.5.0 multidict-6.0.2 multiprocess-0.70.12.2 pandas-1.1.5 pyarrow-8.0.0 pytz-2022.1 responses-0.18.0 xxhash-3.0.0 yarl-1.7.2\n"
     ]
    }
   ],
   "source": [
    "!pip install datasets\n"
   ]
  },
  {
   "cell_type": "code",
   "execution_count": 1,
   "id": "5ebc45e2",
   "metadata": {
    "scrolled": true
   },
   "outputs": [
    {
     "name": "stderr",
     "output_type": "stream",
     "text": [
      "C:\\Users\\Justi\\anaconda3\\envs\\cs231n-finalproject\\lib\\site-packages\\tqdm\\auto.py:22: TqdmWarning: IProgress not found. Please update jupyter and ipywidgets. See https://ipywidgets.readthedocs.io/en/stable/user_install.html\n",
      "  from .autonotebook import tqdm as notebook_tqdm\n",
      "Reusing dataset cifar10 (C:\\Users\\Justi\\.cache\\huggingface\\datasets\\cifar10\\plain_text\\1.0.0\\447d6ec4733dddd1ce3bb577c7166b986eaa4c538dcd9e805ba61f35674a9de4)\n",
      "100%|████████████████████████████████████████████████████████████████████████████████████| 2/2 [00:00<00:00, 77.80it/s]\n",
      "100%|████████████████████████████████████████████████████████████████████████████████████| 5/5 [00:15<00:00,  3.04s/ba]\n",
      "100%|████████████████████████████████████████████████████████████████████████████████████| 1/1 [00:01<00:00,  1.69s/ba]\n",
      "Loading cached processed dataset at C:\\Users\\Justi\\.cache\\huggingface\\datasets\\cifar10\\plain_text\\1.0.0\\447d6ec4733dddd1ce3bb577c7166b986eaa4c538dcd9e805ba61f35674a9de4\\cache-741fe2f2646f835f.arrow\n",
      "The following columns in the training set don't have a corresponding argument in `ViTForImageClassification2.forward` and have been ignored: img. If img are not expected by `ViTForImageClassification2.forward`,  you can safely ignore this message.\n",
      "C:\\Users\\Justi\\anaconda3\\envs\\cs231n-finalproject\\lib\\site-packages\\transformers\\optimization.py:309: FutureWarning: This implementation of AdamW is deprecated and will be removed in a future version. Use the PyTorch implementation torch.optim.AdamW instead, or set `no_deprecation_warning=True` to disable this warning\n",
      "  FutureWarning,\n",
      "***** Running training *****\n",
      "  Num examples = 4500\n",
      "  Num Epochs = 3\n",
      "  Instantaneous batch size per device = 10\n",
      "  Total train batch size (w. parallel, distributed & accumulation) = 10\n",
      "  Gradient Accumulation steps = 1\n",
      "  Total optimization steps = 1350\n"
     ]
    },
    {
     "data": {
      "text/html": [
       "\n",
       "    <div>\n",
       "      \n",
       "      <progress value='1350' max='1350' style='width:300px; height:20px; vertical-align: middle;'></progress>\n",
       "      [1350/1350 08:47, Epoch 3/3]\n",
       "    </div>\n",
       "    <table border=\"1\" class=\"dataframe\">\n",
       "  <thead>\n",
       " <tr style=\"text-align: left;\">\n",
       "      <th>Epoch</th>\n",
       "      <th>Training Loss</th>\n",
       "      <th>Validation Loss</th>\n",
       "      <th>Accuracy</th>\n",
       "    </tr>\n",
       "  </thead>\n",
       "  <tbody>\n",
       "    <tr>\n",
       "      <td>1</td>\n",
       "      <td>No log</td>\n",
       "      <td>0.525954</td>\n",
       "      <td>0.952000</td>\n",
       "    </tr>\n",
       "    <tr>\n",
       "      <td>2</td>\n",
       "      <td>1.083200</td>\n",
       "      <td>0.293680</td>\n",
       "      <td>0.948000</td>\n",
       "    </tr>\n",
       "    <tr>\n",
       "      <td>3</td>\n",
       "      <td>0.253400</td>\n",
       "      <td>0.272527</td>\n",
       "      <td>0.948000</td>\n",
       "    </tr>\n",
       "  </tbody>\n",
       "</table><p>"
      ],
      "text/plain": [
       "<IPython.core.display.HTML object>"
      ]
     },
     "metadata": {},
     "output_type": "display_data"
    },
    {
     "name": "stderr",
     "output_type": "stream",
     "text": [
      "The following columns in the evaluation set don't have a corresponding argument in `ViTForImageClassification2.forward` and have been ignored: img. If img are not expected by `ViTForImageClassification2.forward`,  you can safely ignore this message.\n",
      "***** Running Evaluation *****\n",
      "  Num examples = 500\n",
      "  Batch size = 4\n",
      "Downloading builder script: 4.21kB [00:00, 524kB/s]                                                                    \n",
      "Saving model checkpoint to test-cifar-10\\checkpoint-500\n",
      "Trainer.model is not a `PreTrainedModel`, only saving its state dict.\n",
      "The following columns in the evaluation set don't have a corresponding argument in `ViTForImageClassification2.forward` and have been ignored: img. If img are not expected by `ViTForImageClassification2.forward`,  you can safely ignore this message.\n",
      "***** Running Evaluation *****\n",
      "  Num examples = 500\n",
      "  Batch size = 4\n",
      "Saving model checkpoint to test-cifar-10\\checkpoint-1000\n",
      "Trainer.model is not a `PreTrainedModel`, only saving its state dict.\n",
      "The following columns in the evaluation set don't have a corresponding argument in `ViTForImageClassification2.forward` and have been ignored: img. If img are not expected by `ViTForImageClassification2.forward`,  you can safely ignore this message.\n",
      "***** Running Evaluation *****\n",
      "  Num examples = 500\n",
      "  Batch size = 4\n",
      "\n",
      "\n",
      "Training completed. Do not forget to share your model on huggingface.co/models =)\n",
      "\n",
      "\n",
      "The following columns in the test set don't have a corresponding argument in `ViTForImageClassification2.forward` and have been ignored: img. If img are not expected by `ViTForImageClassification2.forward`,  you can safely ignore this message.\n",
      "***** Running Prediction *****\n",
      "  Num examples = 2000\n",
      "  Batch size = 4\n"
     ]
    },
    {
     "data": {
      "text/html": [
       "\n",
       "    <div>\n",
       "      \n",
       "      <progress value='1000' max='500' style='width:300px; height:20px; vertical-align: middle;'></progress>\n",
       "      [500/500 06:53]\n",
       "    </div>\n",
       "    "
      ],
      "text/plain": [
       "<IPython.core.display.HTML object>"
      ]
     },
     "metadata": {},
     "output_type": "display_data"
    }
   ],
   "source": [
    "import torch.nn as nn\n",
    "import numpy as np\n",
    "\n",
    "from transformers import ViTFeatureExtractor, ViTModel, ViTForImageClassification, TrainingArguments, Trainer, \\\n",
    "    default_data_collator, EarlyStoppingCallback\n",
    "from transformers.modeling_outputs import SequenceClassifierOutput\n",
    "from datasets import load_dataset, load_metric, Features, ClassLabel, Array3D, Image\n",
    "\n",
    "\n",
    "train_ds, test_ds = load_dataset('cifar10', split=['train[:5000]', 'test[:2000]'])\n",
    "splits = train_ds.train_test_split(test_size=0.1)\n",
    "train_ds = splits['train']\n",
    "val_ds = splits['test']\n",
    "\n",
    "feature_extractor = ViTFeatureExtractor.from_pretrained('google/vit-base-patch16-224-in21k')\n",
    "data_collator = default_data_collator\n",
    "\n",
    "\n",
    "def preprocess_images(examples):\n",
    "    images = examples['img']\n",
    "    images = [np.array(image, dtype=np.uint8) for image in images]\n",
    "    images = [np.moveaxis(image, source=-1, destination=0) for image in images]\n",
    "    inputs = feature_extractor(images=images)\n",
    "    examples['pixel_values'] = inputs['pixel_values']\n",
    "\n",
    "    return examples\n",
    "\n",
    "\n",
    "# features = Features({\n",
    "#     'label': ClassLabel(\n",
    "#         names=['airplane', 'automobile', 'bird', 'cat', 'deer', 'dog', 'frog', 'horse', 'ship', 'truck']),\n",
    "#     'img': Array3D(dtype=\"int64\", shape=(3, 32, 32)),\n",
    "#     'pixel_values': Array3D(dtype=\"float32\", shape=(3, 224, 224)),\n",
    "# })\n",
    "\n",
    "features = Features({\n",
    "    'label': ClassLabel(names=['airplane', 'automobile', 'bird', 'cat', 'deer', 'dog', 'frog', 'horse', 'ship', 'truck']),\n",
    "    'img': Image(decode=True, id=None),\n",
    "    'pixel_values': Array3D(dtype=\"float32\", shape=(3, 224, 224)), })\n",
    "\n",
    "preprocessed_train_ds = train_ds.map(preprocess_images, batched=True, features=features)\n",
    "preprocessed_val_ds = val_ds.map(preprocess_images, batched=True, features=features)\n",
    "preprocessed_test_ds = test_ds.map(preprocess_images, batched=True, features=features)\n",
    "\n",
    "\n",
    "class ViTForImageClassification2(nn.Module):\n",
    "    def __init__(self, num_labels=10):\n",
    "        super(ViTForImageClassification2, self).__init__()\n",
    "        self.vit = ViTModel.from_pretrained('google/vit-base-patch16-224-in21k')\n",
    "        self.classifier = nn.Linear(self.vit.config.hidden_size, num_labels)\n",
    "        self.num_labels = num_labels\n",
    "\n",
    "    def forward(self, pixel_values, labels):\n",
    "        outputs = self.vit(pixel_values=pixel_values)\n",
    "        logits = self.classifier(outputs.last_hidden_state[:, 0])\n",
    "\n",
    "        loss = None\n",
    "        if labels is not None:\n",
    "            loss_fct = nn.CrossEntropyLoss()\n",
    "            loss = loss_fct(logits.view(-1, self.num_labels), labels.view(-1))\n",
    "\n",
    "        return SequenceClassifierOutput(\n",
    "            loss=loss,\n",
    "            logits=logits,\n",
    "            hidden_states=outputs.hidden_states,\n",
    "            attentions=outputs.attentions,\n",
    "        )\n",
    "\n",
    "\n",
    "args = TrainingArguments(\n",
    "    f\"test-cifar-10\",\n",
    "    evaluation_strategy=\"epoch\",\n",
    "    learning_rate=2e-5,\n",
    "    per_device_train_batch_size=10,\n",
    "    per_device_eval_batch_size=4,\n",
    "    num_train_epochs=3,\n",
    "    weight_decay=0.01,\n",
    "    load_best_model_at_end=False,\n",
    "    metric_for_best_model=\"accuracy\",\n",
    "    logging_dir='logs',\n",
    ")\n",
    "\n",
    "# model = ViTForImageClassification()\n",
    "model = ViTForImageClassification2()\n",
    "\n",
    "\n",
    "def compute_metrics(eval_pred):\n",
    "    predictions, labels = eval_pred\n",
    "    predictions = np.argmax(predictions, axis=1)\n",
    "    return load_metric(\"accuracy\").compute(predictions=predictions, references=labels)\n",
    "\n",
    "\n",
    "trainer = Trainer(\n",
    "    model,\n",
    "    args,\n",
    "    train_dataset=preprocessed_train_ds,\n",
    "    eval_dataset=preprocessed_val_ds,\n",
    "    data_collator=data_collator,\n",
    "    compute_metrics=compute_metrics,\n",
    ")\n",
    "\n",
    "trainer.train()\n",
    "\n",
    "outputs = trainer.predict(preprocessed_test_ds)"
   ]
  },
  {
   "cell_type": "code",
   "execution_count": 2,
   "id": "98bf9684",
   "metadata": {},
   "outputs": [
    {
     "name": "stderr",
     "output_type": "stream",
     "text": [
      "The following columns in the test set don't have a corresponding argument in `ViTForImageClassification2.forward` and have been ignored: img. If img are not expected by `ViTForImageClassification2.forward`,  you can safely ignore this message.\n",
      "***** Running Prediction *****\n",
      "  Num examples = 2000\n",
      "  Batch size = 4\n"
     ]
    }
   ],
   "source": [
    "outputs = trainer.predict(preprocessed_test_ds)\n",
    "y_pred = outputs.predictions.argmax(1)"
   ]
  },
  {
   "cell_type": "code",
   "execution_count": 5,
   "id": "0135462c",
   "metadata": {},
   "outputs": [
    {
     "name": "stdout",
     "output_type": "stream",
     "text": [
      "[3 8 8 ... 9 8 5]\n"
     ]
    }
   ],
   "source": [
    "print( outputs.predictions.argmax(1))"
   ]
  },
  {
   "cell_type": "code",
   "execution_count": 7,
   "id": "1c9cabfc",
   "metadata": {},
   "outputs": [
    {
     "name": "stdout",
     "output_type": "stream",
     "text": [
      "Dataset({\n",
      "    features: ['label', 'img', 'pixel_values'],\n",
      "    num_rows: 2000\n",
      "})\n"
     ]
    }
   ],
   "source": [
    "print(preprocessed_test_ds)"
   ]
  },
  {
   "cell_type": "code",
   "execution_count": 12,
   "id": "d4141068",
   "metadata": {},
   "outputs": [
    {
     "name": "stdout",
     "output_type": "stream",
     "text": [
      "[-0.36240196 -0.3699481  -0.33720705  3.7147849  -0.20393686 -0.3067448\n",
      " -0.24341322 -0.43666342 -0.25323468 -0.37184802]\n"
     ]
    }
   ],
   "source": [
    "print(outputs[0][0])"
   ]
  },
  {
   "cell_type": "code",
   "execution_count": null,
   "id": "dfa01144",
   "metadata": {},
   "outputs": [],
   "source": []
  }
 ],
 "metadata": {
  "kernelspec": {
   "display_name": "Python 3 (ipykernel)",
   "language": "python",
   "name": "python3"
  },
  "language_info": {
   "codemirror_mode": {
    "name": "ipython",
    "version": 3
   },
   "file_extension": ".py",
   "mimetype": "text/x-python",
   "name": "python",
   "nbconvert_exporter": "python",
   "pygments_lexer": "ipython3",
   "version": "3.7.0"
  }
 },
 "nbformat": 4,
 "nbformat_minor": 5
}
