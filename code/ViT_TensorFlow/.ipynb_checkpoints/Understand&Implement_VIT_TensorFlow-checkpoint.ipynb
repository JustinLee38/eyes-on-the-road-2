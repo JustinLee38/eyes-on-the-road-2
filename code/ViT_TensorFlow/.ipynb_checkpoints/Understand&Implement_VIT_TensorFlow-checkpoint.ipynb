{
 "cells": [
  {
   "cell_type": "markdown",
   "metadata": {
    "id": "YsJybSKZmLHA"
   },
   "source": [
    "## 1. Transformer & Attention\n",
    "\n",
    "--------------------------------------\n",
    "**_Disclaimer: I would like to spend some time describing the attention mechanism because for implementation of Vision Transformer I will use [Keras MultieadAttention layer](https://www.tensorflow.org/api_docs/python/tf/keras/layers/MultiHeadAttention). So what goes on there is worth understanding. If you want to jump into vision transformer implementation jump to section 2._**   \n",
    "\n",
    "\n",
    "-------------------------------------\n",
    "\n",
    "\n",
    "To understand Vision Transformer, first we need to focus on the basics of transformer and attention mechanism. For this part I will follow the paper **[Attention is All You Need](https://arxiv.org/pdf/1706.03762.pdf)**. This paper itself is an excellent read and the description/concepts below are mostly taken from there and it will only help us to proceed further. \n",
    "\n",
    "\n",
    "\n",
    " The idea of transformer is to use attention without recurrence (read RNN). So transformer is still a sequence to sequence (Seq2Seq) model and follows encoder-decoder structure. To quote from the paper--\n",
    " \n",
    ">The encoder maps an input sequence of symbol representations $(x_1, \\ldots, x_n)$ to a sequence\n",
    "of continuous representations $z = (z_1, \\ldots, z_n)$. Given $z$, the decoder then generates an output sequence $(y_1, \\ldots, y_m)$ of symbols one element at a time. At each step the model is auto-regressive, consuming the previously generated symbols as additional input when generating the next. \n",
    "\n",
    "\n",
    "Let's see the Transformer structure introduced in the paper\n",
    "\n",
    "![Transformer](https://drive.google.com/uc?id=1BXHTi4lUivqVv-T7VnTWgEdQ-2pBVUfY)\n"
   ]
  },
  {
   "cell_type": "markdown",
   "metadata": {
    "id": "dVLQPFwap4Pz"
   },
   "source": [
    "The encoder takes the input data (sentence/sequence), and produces an intermediate representation of the input. The decoder decodes this intermediate representation step by step and generates the output. The $Nx$ part in above picture are number of stacked layers, in orginal paper it's 6.  Once we understand the encoder part of the above structure we can move to vision transformer. Encoder layer contains 2 very important components, \n",
    "\n",
    "1. Multi-head self-attention block. \n",
    "2. Position wise, fully-connected feed forward network.   \n",
    "\n",
    "Let's focus on the multi-head self attention part. The paper itself has a diagram of scaled dot-product attention and multi-head attention which consists of several attention layers running in parallel. \n",
    "\n",
    "![mutli-head](https://drive.google.com/uc?id=1_dXyDo1khaK4pmcfFzFyOZhDnSUL5Rux)\n",
    "\n",
    "The 3 labels in the diagram Q, K, V denotes Query, Key and Value vectors. For now we think of this as part of information retrieval protocol when we search (query) and the search engine compares our query with a key and responds with a value (output).\n",
    "\n",
    "In the orginal paper 3 different usages of multi-head attention were described. Let's quote directly from paper-\n",
    "\n",
    "> 1. In \"encoder-decoder attention\" layers, the _queries_ come from the previous decoder layer, and the memory _keys_ and _values_ come from the output of the encoder. This allows every position in the decoder to attend over all positions in the input sequence. This mimics the typical encoder-decoder attention mechanisms in sequence-to-sequence models. \n",
    "2. The encoder contains self-attention layers. In a self-attention layer all of the _keys_, _values_ and _queries_ come from the same place, in this case, the output of the previous layer in the encoder. Each position in the encoder can attend to all positions in the previous layer of the encoder. \n",
    "3. Similarly, self-attention layers in the decoder allow each position in the decoder to attend to all positions in the decoder up to and including that position.\n",
    "\n",
    "For our purpose (to understand vision transformer), most important point is 2, i.e. self-attention in encoder part. Let's deep dive! \n",
    "\n",
    "\n",
    "## 1.1. Self-Attention\n",
    "\n",
    "Let's consider an input sequence $(x_1, x_2, \\ldots , x_m)$. Output of self-attention layer from this input sequence is a set of context vectors of same length $(C_1, C_2, \\ldots , C_m)$ as input sequence. The picture below will help us\n",
    "\n",
    "![S-attention1](https://drive.google.com/uc?id=1YNZcH34tH4LK4obSEyDyyDRobbD6tddV)\n",
    "\n",
    "In the picture above we define the weights that will be trained as $W_q, W_k, W_v$ for _query_, _keys_ and _values_. How they are actually used? Let's see the picture below--\n",
    "\n",
    "![S-attention2](https://drive.google.com/uc?id=1WHEc75C4TKpc4VBiwNPO1XqbWo9JvQt6)\n",
    "\n",
    "It is important to note that same weight is applied for all $i$s. In the _Attention is All You Need_ paper, the dimensions of _query_ and _key_ are taken as $d_k$ and for _values_ it is assumed $d_v$. For example if we have  $x_i$s of dimension 5 i.e. [0 1 1 2 3] and _query_ has dimension 3 then $W_q$ will have dimension $5\\times 3$. Same goes for _keys_ and _values_ and corresponding weights. So how these context vectors are calculated? Let's see below--\n",
    "\n",
    "![S-attention3](https://drive.google.com/uc?id=1ca3Eu4LMAbKqg6IxQDEfmTJVrsEdCxHG)\n",
    "\n",
    "The figure above describes the dot-product attention which was introduced in the paper. Important point is for calculating $\\alpha _j$ (see figure above) at position $q_j$ (same as $x_j$) we use information from $q_j$ only but all other _Keys_ ($k_j$s). We are left with the final step to calculate the output of attention layer and that is to use the _values_ as below--\n",
    "\n",
    "![S-attention4](https://drive.google.com/uc?id=14AYcINN08Af983BcyGBeOT7eaOM278Lx)\n",
    "\n",
    "Here we see how we take the product of $v_i$ with $\\alpha \\equiv Softmax \\left(\\frac{QK^T}{\\sqrt{d_k}}\\right)$.  \n",
    "\n",
    "To calculate context vector at position $i$ we need values from all the inputs. Finally, how do we think about the scaling factor $\\left(\\frac{1}{\\sqrt{d_k}} \\right)$ in the scaled dot attention function ?\n",
    "\n",
    "Usually we will initialize our layers with the intention of having equal variance throughout the model. But when we perform the dot product over these two vectors $(Q, K)$ with a variance $\\sigma ^2$, this will result in a scaler having $d_k$ times higher variance. Remember also that $d_k$ is the dimension of both $Q, K$, while $V$ has dimension $d_v$. \n",
    "\n",
    "$$q_i \\sim N(0, \\sigma ^2), \\, k_i \\sim N(0, \\sigma ^2), \\rightarrow \\text{Var} \\left(\\sum \\limits_{i=1}^{d_k} q_i \\cdot k_i \\right) = \\sigma ^2 \\cdot d_k $$ \n",
    "\n",
    "If we do not scale down the variance back to $\\sigma ^2$, the softmax over the logits would have saturated to $1$ for one random element and $0$ for all others. The gradients through the softmax will be close to zero so that we can’t learn the parameters appropriately. \n",
    "\n",
    "At this point we can at-least appreciate the scaled dot product attention diagram (figure: 2) that was introduced in the paper. \n",
    "\n",
    "\n",
    "----------------------------------------\n",
    "\n",
    "## 1.2. Multi-Head Attention (Self)\n",
    "\n",
    "It's a very simple extension of single head self-attention. \n",
    "\n",
    "1. In Multi-head self-attention we have $h$ single head self-attentions (layers). \n",
    "\n",
    "2. In a single head self attention trainable parameters are weights $W_q, W_k, W_v$\n",
    "\n",
    "3. The $h$ single head self-attention layers do not share parameters. So total $3h$ parameters. \n",
    "\n",
    "4. Each single head self-attention outputs a context vector. \n",
    "\n",
    "5. These context vectors are concatenated. \n",
    "\n",
    "6. If a single head attention outputs a dimensional vector i.e. each $C_i$’s are $d \\times 1$, then multi-head outputs are $hd \\times 1$ dimensional vector, given $h$ layers of single head self-attention layers.      \n",
    "\n",
    "To quote from paper on the importance of multi-head attention--\n",
    "\n",
    "> Multi-head attention allows the model to jointly attend to information from different representation subspaces at different position. With a single attention head, averaging inhibits this."
   ]
  },
  {
   "cell_type": "markdown",
   "metadata": {
    "id": "0JmhmSb6gEee"
   },
   "source": [
    "\n",
    "## 2. Vision Transformer (Step by Step)\n",
    "\n",
    "Implement vision transformer on [CIFAR-10 dataset](https://www.cs.toronto.edu/~kriz/cifar.html).\n",
    "\n",
    "For this implementation we will use concepts and methods described in the original [ViT paper](https://arxiv.org/abs/2010.11929) by Dosovitskiy et.al. Here it is mentioned that ViTs are data hungry architectures and the performance of ViTs even in relatively large dataset like ImageNet without strong regularization yields accuracies few percentages below ResNet. But the scenario changes when Transformers are trained on larget datasets (14M-300M images). The original implementation is available in [google github](https://github.com/google-research/vision_transformer/blob/main/vit_jax/models.py) and a very similar version in [tensorflow models](https://github.com/tensorflow/models/blob/master/official/vision/beta/projects/vit/modeling/vit.py). We will discuss each step in detail but first let's get started with loading data. \n",
    "\n",
    "**ViT TLDR:** \n",
    "\n",
    "1. Take an image $(256 \\times 256 \\times 3)$.\n",
    "2. Turn images into smaller patches $\\left(\\text{ex:}\\,  16 \\times 16 \\times 3 \\, ,\\,  \\, \\text{total} \\, 256\\,  \\left(N=\\frac{256 \\times 256}{16^2} \\right)  \\text{patches} \\right)$. \n",
    "3. These patches then were linearly embedded. We can think of these now as tokens. \n",
    "4. Use them as input for Transformer Encoder (contains multi-head self attention). \n",
    "5. Perform the classification. \n",
    "6. Bye Bye Convolution. \n",
    "\n",
    "\n",
    " \n",
    "\n"
   ]
  },
  {
   "cell_type": "code",
   "execution_count": 1,
   "metadata": {
    "id": "JK89R2IFatAN"
   },
   "outputs": [],
   "source": [
    "import numpy as np\n",
    "import matplotlib.pyplot as plt\n",
    "\n",
    "\n",
    "import tensorflow as tf\n",
    "from tensorflow.keras import layers\n",
    "\n",
    "from tensorflow.keras.datasets import cifar10"
   ]
  },
  {
   "cell_type": "code",
   "execution_count": 2,
   "metadata": {
    "colab": {
     "base_uri": "https://localhost:8080/"
    },
    "executionInfo": {
     "elapsed": 24768,
     "status": "ok",
     "timestamp": 1644144672629,
     "user": {
      "displayName": "Swap vi",
      "photoUrl": "https://lh3.googleusercontent.com/a/default-user=s64",
      "userId": "01936573407644251994"
     },
     "user_tz": -540
    },
    "id": "OB3ZHu48aItN",
    "outputId": "1fcfa95f-2c4f-402f-e15d-cf46498f9f11"
   },
   "outputs": [
    {
     "name": "stdout",
     "output_type": "stream",
     "text": [
      "Downloading data from https://www.cs.toronto.edu/~kriz/cifar-10-python.tar.gz\n",
      "170498071/170498071 [==============================] - 23s 0us/step\n",
      "check shapes:  (50000, 32, 32, 3) (50000, 1) (10000, 32, 32, 3) (10000, 1)\n",
      "train data shape after the split:  (40000, 32, 32, 3)\n",
      "new validation data shape:  (10000, 32, 32, 3)\n",
      "validation labels shape:  (10000, 10)\n",
      "train im and label types:  <class 'numpy.ndarray'> <class 'numpy.ndarray'>\n",
      "check types;  <class 'tensorflow.python.data.ops.dataset_ops.TensorSliceDataset'> <class 'tensorflow.python.data.ops.dataset_ops.TensorSliceDataset'>\n"
     ]
    }
   ],
   "source": [
    "(x_train, y_train), (x_test, y_test) = cifar10.load_data()\n",
    "\n",
    "print ('check shapes: ', x_train.shape, y_train.shape, x_test.shape, y_test.shape)\n",
    "\n",
    "# train_im, test_im = x_train/255.0 , x_test/255.0\n",
    "\n",
    "train_lab_categorical = tf.keras.utils.to_categorical(y_train, num_classes=10, dtype='uint8')\n",
    "\n",
    "test_lab_categorical = tf.keras.utils.to_categorical(y_test, num_classes=10, dtype='uint8')\n",
    "\n",
    "from sklearn.model_selection import train_test_split \n",
    "train_im, valid_im, train_lab, valid_lab = train_test_split(x_train, train_lab_categorical, test_size=0.20, \n",
    "                                                            stratify=train_lab_categorical, \n",
    "                                                            random_state=40, shuffle = True) # stratify is unncessary \n",
    "\n",
    "print (\"train data shape after the split: \", train_im.shape)\n",
    "print ('new validation data shape: ', valid_im.shape)\n",
    "print (\"validation labels shape: \", valid_lab.shape)\n",
    "\n",
    "class_types = ['airplane', 'automobile', 'bird', 'cat', 'deer',\n",
    "               'dog', 'frog', 'horse', 'ship', 'truck'] # from cifar-10 website\n",
    "\n",
    "print ('train im and label types: ', type(train_im), type(train_lab))\n",
    "\n",
    "training_data = tf.data.Dataset.from_tensor_slices((train_im, train_lab))\n",
    "validation_data = tf.data.Dataset.from_tensor_slices((valid_im, valid_lab))\n",
    "test_data = tf.data.Dataset.from_tensor_slices((x_test, test_lab_categorical))\n",
    "\n",
    "print ('check types; ', type(training_data), type(validation_data))\n",
    "\n",
    "\n",
    "autotune = tf.data.AUTOTUNE \n",
    "\n",
    "train_data_batches = training_data.shuffle(buffer_size=40000).batch(128).prefetch(buffer_size=autotune)\n",
    "valid_data_batches = validation_data.shuffle(buffer_size=10000).batch(32).prefetch(buffer_size=autotune)\n",
    "test_data_batches = test_data.shuffle(buffer_size=10000).batch(32).prefetch(buffer_size=autotune)"
   ]
  },
  {
   "cell_type": "markdown",
   "metadata": {
    "id": "3Y8ijSW_b6Wj"
   },
   "source": [
    "## 2.1. Patch Generation \n",
    "\n",
    "Let's discuss what's described in paper. \n",
    "\n",
    "Consider an image, $x \\in \\mathbb{R}^{H\\times W \\times C}$, and turn it into a sequence of patches $x_p \\in \\mathbb{R}^{N\\times P \\times P \\times C}$, where $(H, W )$ is the height and Width of the original image, $C$ is the number of channels, $(P, P )$ is the resolution of each image patch, and $N = HW/P^2$ is the resulting number of patches, which also serves as the effective input sequence length for the Transformer.   \n",
    "\n",
    "Check the tensorflow example page about [custom layer](https://www.tensorflow.org/tutorials/customization/custom_layers) for examples, we follow the example given there. \n",
    "\n",
    "The best way to implement your own layer is extending the tf.keras.Layer class and implementing:\n",
    "\n",
    "1. `__init__` , where you can do all input-independent initialization.\n",
    "2.     `build`, where you know the shapes of the input tensors and can do the rest of the initialization, *this part isn't necessary*.\n",
    "3. `call`, where you do the forward computation.\n",
    "\n",
    "\n",
    "For the patch generation, I will follow what was done in [original code](https://github.com/google-research/vision_transformer/blob/main/vit_jax/models.py) but I will discuss another method too which was discussed in [Keras Blog](https://keras.io/examples/vision/image_classification_with_vision_transformer/).  \n",
    "\n",
    "1. We can use [`tf.image.extract_patches`](https://www.tensorflow.org/api_docs/python/tf/image/extract_patches). To quote from the page\n",
    "\n",
    ">This op collects patches from the input image, as if applying a convolution. All extracted patches are stacked in the depth (last) dimension of the output.\n",
    "\n",
    "Using this we can literally create patches from the images, the patches were then flattened. Then use a dense layer with learnable weights to project it with a hidden dimension (this will be more clear soon). In addition, it adds a learnable position embedding to the projected vector.  Final shape of the output will be `(batch_size, num_patches, hidden_dim)`. An example using an image tensor till patch creation is shown below. \n",
    "\n",
    "2. In the original code instead of creating patches and then adding learnable weights via Dense layer to project it on a certain dimension, we directly use a convolutional layer (with learnable weights) with number of filters equal to this hidden dimension. So the shape here is already `(batch_size, num_patches, hidden_dim)` and then a learnable position embedding layer of same shape was added to the input. \n",
    "\n",
    "We will discuss both methods. But before that what's this hidden dimension ? This is the dimension of Query and Key (previously we wrote it as $d_k$) and we will use this in the encoder block when we need the [`MultiHeadAttention` layer](https://www.tensorflow.org/api_docs/python/tf/keras/layers/MultiHeadAttention). So this projection is done in such a way that we can directly feed the embedded patches (flattened) to the transformer. Great ! Slowly things are building up. \n",
    "\n",
    "\n",
    "### 2.1.1 Patch Generation to Embed (Keras Blog)"
   ]
  },
  {
   "cell_type": "code",
   "execution_count": 3,
   "metadata": {
    "id": "cMA-vXAvHsva"
   },
   "outputs": [],
   "source": [
    "class generate_patch(layers.Layer):\n",
    "  def __init__(self, patch_size):\n",
    "    super(generate_patch, self).__init__()\n",
    "    self.patch_size = patch_size\n",
    "    \n",
    "  def call(self, images):\n",
    "    batch_size = tf.shape(images)[0]\n",
    "    patches = tf.image.extract_patches(images=images, \n",
    "                                       sizes=[1, self.patch_size, self.patch_size, 1], \n",
    "                                       strides=[1, self.patch_size, self.patch_size, 1], rates=[1, 1, 1, 1], padding=\"VALID\")\n",
    "    patch_dims = patches.shape[-1]\n",
    "    patches = tf.reshape(patches, [batch_size, -1, patch_dims]) #here shape is (batch_size, num_patches, patch_h*patch_w*c) \n",
    "    return patches"
   ]
  },
  {
   "cell_type": "code",
   "execution_count": 4,
   "metadata": {
    "colab": {
     "base_uri": "https://localhost:8080/",
     "height": 786
    },
    "executionInfo": {
     "elapsed": 5576,
     "status": "ok",
     "timestamp": 1644144681323,
     "user": {
      "displayName": "Swap vi",
      "photoUrl": "https://lh3.googleusercontent.com/a/default-user=s64",
      "userId": "01936573407644251994"
     },
     "user_tz": -540
    },
    "id": "6ZsNcBTdhnu5",
    "outputId": "80a576d0-9d1b-4e88-a127-57ab32b8400f"
   },
   "outputs": [
    {
     "name": "stdout",
     "output_type": "stream",
     "text": [
      "check shapes:  (1, 32, 32, 3)\n",
      "patch per image and patches shape:  64 \n",
      " (1, 64, 48)\n"
     ]
    },
    {
     "data": {
      "image/png": "[encoded data removed]",
      "text/plain": [
       "<Figure size 432x432 with 1 Axes>"
      ]
     },
     "metadata": {
      "needs_background": "light"
     },
     "output_type": "display_data"
    },
    {
     "data": {
      "image/png": "[encoded data removed]",
      "text/plain": [
       "<Figure size 432x432 with 64 Axes>"
      ]
     },
     "metadata": {
      "needs_background": "light"
     },
     "output_type": "display_data"
    }
   ],
   "source": [
    "from itertools import islice, count\n",
    "\n",
    "train_iter_7im, train_iter_7label = next(islice(training_data, 7, None)) # access the 7th element from the iterator\n",
    "\n",
    "\n",
    "\n",
    "train_iter_7im = tf.expand_dims(train_iter_7im, 0)\n",
    "train_iter_7label = train_iter_7label.numpy()\n",
    "\n",
    "print('check shapes: ', train_iter_7im.shape) \n",
    "\n",
    "patch_size=4 \n",
    "######################\n",
    "# num patches (W * H) /P^2 where W, H are from original image, P is patch dim. \n",
    "# Original image (H * W * C), patch N * P*P *C, N num patches\n",
    "######################\n",
    "generate_patch_layer = generate_patch(patch_size=patch_size)\n",
    "patches = generate_patch_layer(train_iter_7im)\n",
    "\n",
    "print ('patch per image and patches shape: ', patches.shape[1], '\\n', patches.shape)\n",
    "\n",
    "\n",
    "\n",
    "def render_image_and_patches(image, patches):\n",
    "    plt.figure(figsize=(6, 6))\n",
    "    plt.imshow(tf.cast(image[0], tf.uint8))\n",
    "    plt.xlabel(class_types [np.argmax(train_iter_7label)], fontsize=13)\n",
    "    n = int(np.sqrt(patches.shape[1]))\n",
    "    plt.figure(figsize=(6, 6))\n",
    "    #plt.suptitle(f\"Image Patches\", size=13)\n",
    "    for i, patch in enumerate(patches[0]):\n",
    "        ax = plt.subplot(n, n, i+1)\n",
    "        patch_img = tf.reshape(patch, (patch_size, patch_size, 3))\n",
    "        ax.imshow(patch_img.numpy().astype(\"uint8\"))\n",
    "        ax.axis('off')    \n",
    "\n",
    "        \n",
    "\n",
    "\n",
    "render_image_and_patches(train_iter_7im, patches)"
   ]
  },
  {
   "cell_type": "code",
   "execution_count": 5,
   "metadata": {
    "id": "5_9D7tkOjD1c"
   },
   "outputs": [],
   "source": [
    "### Positonal Encoding Layer\n",
    "\n",
    "class PatchEncode_Embed(layers.Layer):\n",
    "  '''\n",
    "  2 steps happen here\n",
    "  1. flatten the patches \n",
    "  2. Map to dim D; patch embeddings  \n",
    "  '''\n",
    "  def __init__(self, num_patches, projection_dim):\n",
    "    super(PatchEncode_Embed, self).__init__()\n",
    "    self.num_patches = num_patches\n",
    "    self.projection = layers.Dense(units=projection_dim)# activation = linear\n",
    "    self.position_embedding = layers.Embedding(\n",
    "        input_dim=num_patches, output_dim=projection_dim)\n",
    "    \n",
    "  def call(self, patch):\n",
    "    positions = tf.range(start=0, limit=self.num_patches, delta=1)\n",
    "    encoded = self.projection(patch) + self.position_embedding(positions)\n",
    "    return encoded"
   ]
  },
  {
   "cell_type": "code",
   "execution_count": 6,
   "metadata": {
    "colab": {
     "base_uri": "https://localhost:8080/"
    },
    "executionInfo": {
     "elapsed": 1603,
     "status": "ok",
     "timestamp": 1644144682915,
     "user": {
      "displayName": "Swap vi",
      "photoUrl": "https://lh3.googleusercontent.com/a/default-user=s64",
      "userId": "01936573407644251994"
     },
     "user_tz": -540
    },
    "id": "v6LAY5gHzAFm",
    "outputId": "584719b7-f68e-477a-bee3-70a91ec47d10"
   },
   "outputs": [
    {
     "name": "stdout",
     "output_type": "stream",
     "text": [
      "tf.Tensor([ 1 64 64], shape=(3,), dtype=int32)\n"
     ]
    }
   ],
   "source": [
    "patch_encoder = PatchEncode_Embed(64, 64)(patches)\n",
    "print (tf.shape(patch_encoder))"
   ]
  },
  {
   "cell_type": "code",
   "execution_count": 7,
   "metadata": {
    "id": "f9hT0LJG1EUI"
   },
   "outputs": [],
   "source": [
    "### compare with conv layer (tf extract image)\n",
    "# train_iter_7im = tf.cast(train_iter_7im, dtype=tf.float32)\n",
    "# x_conv = layers.Conv2D(48, patch_size, patch_size, padding='valid')(train_iter_7im)\n",
    "\n",
    "# print (x_conv.shape)\n",
    "\n",
    "\n",
    "# patches = tf.image.extract_patches(images=train_iter_7im, \n",
    "#                                        sizes=[1, patch_size, patch_size, 1], \n",
    "#                                        strides=[1, patch_size, patch_size, 1], rates=[1, 1, 1, 1], padding=\"VALID\")\n",
    "\n",
    "# print (patches.shape)\n",
    "\n",
    "# patches = tf.reshape(patches, [1, -1, patches.shape[-1] ] )\n",
    "# print (patches.shape)"
   ]
  },
  {
   "cell_type": "markdown",
   "metadata": {
    "id": "DGYSAScJx37_"
   },
   "source": [
    "### 2.2. Patches and Embedding (Original Implementation)\n",
    "\n",
    "How the original implementation works were described in section 2.1 (Patch Generation), point 2. \n",
    "\n",
    "Here I wrote 2 different layers, \n",
    "\n",
    "1. `generate_patch_conv`: Directly compare with the extract image part we checked before, to understand conv layer is very similar to `extract image` method except of course `Conv2D` layer is leranable. \n",
    "\n",
    "1. `generate_patch_conv_orgPaper`: What was done by the google researchers. Number of filters in the `Conv2D` layer matches the hidden dimension i.e. query/key dimension in multi-head attention layer. "
   ]
  },
  {
   "cell_type": "code",
   "execution_count": 8,
   "metadata": {
    "colab": {
     "base_uri": "https://localhost:8080/"
    },
    "executionInfo": {
     "elapsed": 6474,
     "status": "ok",
     "timestamp": 1644144692653,
     "user": {
      "displayName": "Swap vi",
      "photoUrl": "https://lh3.googleusercontent.com/a/default-user=s64",
      "userId": "01936573407644251994"
     },
     "user_tz": -540
    },
    "id": "N5rSItYUeAd4",
    "outputId": "f96a1c25-0e82-400d-9e9c-ccd153fab514"
   },
   "outputs": [
    {
     "name": "stdout",
     "output_type": "stream",
     "text": [
      "patch per image and patches shape:  64 \n",
      " (1, 64, 48)\n",
      "patch per image and patches shape:  64 \n",
      " (1, 64, 64)\n",
      "patch per image and patches shape:  64 \n",
      " (1, 64, 64)\n"
     ]
    }
   ],
   "source": [
    "class generate_patch_conv(layers.Layer):\n",
    "  '''\n",
    "  this is an example to generate conv patches comparable with the image patches\n",
    "  generated using tf extract image patches. This wasn't the original implementation, specially \n",
    "  the number of filters in the conv layer has nothing to do with patch size. It must be same as\n",
    "  hidden dim (query/key dim) in relation to multi-head attention layer.       \n",
    "  '''\n",
    "  def __init__(self, patch_size):\n",
    "    super(generate_patch_conv, self).__init__()\n",
    "    self.patch_size = patch_size\n",
    "\n",
    "  def call(self, images):\n",
    "    batch_size = tf.shape(images)[0]\n",
    "    patches = layers.Conv2D(self.patch_size*self.patch_size*3, self.patch_size, self.patch_size, padding='valid')(images)\n",
    "\n",
    "    patch_dims = patches.shape[-1]\n",
    "    patches = tf.reshape(patches, [batch_size, -1, patch_dims])\n",
    "    return patches  \n",
    "\n",
    "class generate_patch_conv_orgPaper(layers.Layer):\n",
    "  '''\n",
    "  original implementation, \n",
    "  hidden size = query/key dim in multi head attention layer later. \n",
    "  '''\n",
    "  def __init__(self, patch_size, hidden_size):\n",
    "    super(generate_patch_conv_orgPaper, self).__init__()\n",
    "    self.patch_size = patch_size\n",
    "    self.hidden_size = hidden_size\n",
    "\n",
    "  def call(self, images):\n",
    "    patches = layers.Conv2D(self.hidden_size, self.patch_size, self.patch_size, padding='valid', name='Embedding')(images) \n",
    "    # kernels and strides = patch size\n",
    "    # the weights of the convolutional layer will be learned. \n",
    "    rows_axis, cols_axis = (1, 2) # channels last images\n",
    "    #if channels_last:\n",
    "      #rows_axis, cols_axis = (2, 3) # for channels last\n",
    "      # x = tf.transpose(patches, perm=[0, 2, 3, 1]) # do this for channels_first\n",
    "    seq_len = (images.shape[rows_axis] // patch_size) * (images.shape[cols_axis] // patch_size)\n",
    "    x = tf.reshape(patches, [-1, seq_len, self.hidden_size])\n",
    "    return x\n",
    "\n",
    "def generate_patch_conv_orgPaper_f(patch_size, hidden_size, inputs):\n",
    "  patches = layers.Conv2D(filters=hidden_size, kernel_size=patch_size, strides=patch_size, padding='valid')(inputs)\n",
    "  row_axis, col_axis = (1, 2) # channels last images\n",
    "  seq_len = (inputs.shape[row_axis] // patch_size) * (inputs.shape[col_axis] // patch_size)\n",
    "  x = tf.reshape(patches, [-1, seq_len, hidden_size])\n",
    "  return x\n",
    "\n",
    "\n",
    "\n",
    "\n",
    "train_iter_7im = tf.cast(train_iter_7im, dtype=tf.float16)\n",
    "generate_patch_conv_layer = generate_patch_conv(patch_size=patch_size)\n",
    "patches_conv = generate_patch_conv_layer(train_iter_7im)\n",
    "\n",
    "\n",
    "print ('patch per image and patches shape: ', patches_conv.shape[1], '\\n', patches_conv.shape)    \n",
    "\n",
    "generate_patch_conv_orgPaper_layer = generate_patch_conv_orgPaper(patch_size=patch_size, hidden_size=64)\n",
    "patches_conv_org = generate_patch_conv_orgPaper_layer(train_iter_7im)\n",
    "\n",
    "hidden_size=64\n",
    "patches_conv_org_f = generate_patch_conv_orgPaper_f(patch_size, hidden_size, train_iter_7im)\n",
    "\n",
    "print ('patch per image and patches shape: ', patches_conv_org.shape[1], '\\n', patches_conv_org.shape)\n",
    "print ('patch per image and patches shape: ', patches_conv_org_f.shape[1], '\\n', patches_conv_org_f.shape)"
   ]
  },
  {
   "cell_type": "code",
   "execution_count": 9,
   "metadata": {
    "colab": {
     "base_uri": "https://localhost:8080/",
     "height": 731
    },
    "executionInfo": {
     "elapsed": 3017,
     "status": "ok",
     "timestamp": 1644144695637,
     "user": {
      "displayName": "Swap vi",
      "photoUrl": "https://lh3.googleusercontent.com/a/default-user=s64",
      "userId": "01936573407644251994"
     },
     "user_tz": -540
    },
    "id": "0_bjBJCti6yP",
    "outputId": "8d82ba6e-2701-4f6a-d60b-3e6651c52723"
   },
   "outputs": [
    {
     "data": {
      "image/png": "[encoded data removed]",
      "text/plain": [
       "<Figure size 432x432 with 1 Axes>"
      ]
     },
     "metadata": {
      "needs_background": "light"
     },
     "output_type": "display_data"
    },
    {
     "data": {
      "image/png": "[encoded data removed]",
      "text/plain": [
       "<Figure size 432x432 with 64 Axes>"
      ]
     },
     "metadata": {
      "needs_background": "light"
     },
     "output_type": "display_data"
    }
   ],
   "source": [
    "def render_image_and_patches(image, patches):\n",
    "    plt.figure(figsize=(6, 6))\n",
    "    plt.imshow(tf.cast(image[0], tf.uint8))\n",
    "    plt.xlabel(class_types [np.argmax(train_iter_7label)], fontsize=13)\n",
    "    n = int(np.sqrt(patches.shape[1]))\n",
    "    plt.figure(figsize=(6, 6))\n",
    "    #plt.suptitle(f\"Image Patches\", size=13)\n",
    "    for i, patch in enumerate(patches[0]):\n",
    "        ax = plt.subplot(n, n, i+1)\n",
    "        patch_img = tf.reshape(patch, (patch_size, patch_size, 3))\n",
    "        ax.imshow(patch_img.numpy().astype(\"uint8\"))\n",
    "        ax.axis('off')\n",
    "\n",
    "render_image_and_patches(train_iter_7im, patches_conv)        "
   ]
  },
  {
   "cell_type": "code",
   "execution_count": 10,
   "metadata": {
    "id": "XwoVIVyCjaJs"
   },
   "outputs": [],
   "source": [
    "# x_conv = layers.Conv2D(64, patch_size, patch_size, padding='valid')(train_iter_7im)\n",
    "\n",
    "# print(x_conv.shape)\n",
    "\n",
    "# #x_conv = tf.transpose(x_conv, perm=[0, 2, 3, 1])\n",
    "\n",
    "# #print(x_conv.shape)\n",
    "\n",
    "# seq_len = (train_iter_7im.shape[1] // patch_size) * (train_iter_7im.shape[2] // patch_size)\n",
    "\n",
    "# x = tf.reshape(x_conv, [-1, seq_len, 64])\n",
    "\n",
    "# print(x.shape)"
   ]
  },
  {
   "cell_type": "code",
   "execution_count": 11,
   "metadata": {
    "colab": {
     "base_uri": "https://localhost:8080/"
    },
    "executionInfo": {
     "elapsed": 10,
     "status": "ok",
     "timestamp": 1644144695638,
     "user": {
      "displayName": "Swap vi",
      "photoUrl": "https://lh3.googleusercontent.com/a/default-user=s64",
      "userId": "01936573407644251994"
     },
     "user_tz": -540
    },
    "id": "49zwF0Cim9Nn",
    "outputId": "60058f63-c19a-4ba3-e49a-839f62f35f5c"
   },
   "outputs": [
    {
     "name": "stdout",
     "output_type": "stream",
     "text": [
      "embedded input shape:  (1, 64, 64)\n"
     ]
    }
   ],
   "source": [
    "### Positonal Encoding Layer\n",
    "\n",
    "class AddPositionEmbs(layers.Layer):\n",
    "  \"\"\"Adds (optionally learned) positional embeddings to the inputs.\"\"\"\n",
    "\n",
    "  def __init__(self, posemb_init=None, **kwargs):\n",
    "    super().__init__(**kwargs)\n",
    "    self.posemb_init = posemb_init\n",
    "    #posemb_init=tf.keras.initializers.RandomNormal(stddev=0.02), name='posembed_input') # used in original code\n",
    "\n",
    "  def build(self, inputs_shape):\n",
    "    pos_emb_shape = (1, inputs_shape[1], inputs_shape[2])\n",
    "    self.pos_embedding = self.add_weight('pos_embedding', pos_emb_shape, initializer=self.posemb_init)\n",
    "\n",
    "  def call(self, inputs, inputs_positions=None):\n",
    "    # inputs.shape is (batch_size, seq_len, emb_dim).\n",
    "    pos_embedding = tf.cast(self.pos_embedding, inputs.dtype)\n",
    "\n",
    "    return inputs + pos_embedding\n",
    "\n",
    "\n",
    "pos_embed_layer = AddPositionEmbs(posemb_init=tf.keras.initializers.RandomNormal(stddev=0.02))\n",
    "embedded_inp = pos_embed_layer(patches_conv_org)\n",
    "\n",
    "print ('embedded input shape: ', embedded_inp.shape)"
   ]
  },
  {
   "cell_type": "markdown",
   "metadata": {
    "id": "VA8UIQRQiQEA"
   },
   "source": [
    "Let's discuss some important point related to the encoding of the patches. To quote from the paper--  \n",
    "\n",
    "> The Transformer uses constant latent vector size $D$ through all of its layers, so we flatten the patches and map to $D$ dimensions with a trainable linear projection (Eq. 1). We refer to\n",
    "the output of this projection as the patch embeddings. \n",
    "\n",
    "$$z_0 = \\left[x_{\\text{class}}; x_p^1\\cdot E; x_p^2\\cdot E; \\ldots x_p^N\\cdot E \\right] + E_{\\text{pos}}; \\, \\, E \\in \\mathbb{R}^{(P^2 \\times C)\\times D} , E_{\\text{pos}} \\in \\mathbb{R}^{(N +1)\\times D} \\, \\ldots (1)$$\n",
    "\n",
    "The `cls` token is similar to that of [BERT's](https://arxiv.org/abs/1810.04805) class token. \n",
    "\n",
    "How a ViT architecture is different from a CNN and Positional Embedding--\n",
    "\n",
    "Once we flatten the images to patches, we lose the structures of the input and the positional embedding helps allow the model to learn about the structure of the input image. These positional embeddings are learnable and highlights how much about image structure the model can learn on its own. In CNN if we consider kernels, it's about learning 2-D neighborhood structure; but in transformers apart from the MLP layer this local 2-D structure isn't used and the positional embeddings at the initialization time carry no information about the 2-D position of the patches and all spatial relations between the patches are learned from scratch.       \n",
    "\n",
    "\n",
    "Afer the embedding part, we feed them into the multi-head self attention and multi-layer perceptron layers (in that order), and that essentially is the transforner block in VIT. A visual representation is take from the [Google blog](https://ai.googleblog.com/2020/12/transformers-for-image-recognition-at.html) is shown below.   \n",
    "\n",
    "![VITransformer_Gif](https://drive.google.com/uc?id=1BUBJ7pSJxNVIrhkpex6owgrjixXiwpAl)\n",
    "\n",
    "\n",
    "The visual representation of specifically  the Transformer encoder block is shown below and this will help us to implement it better. \n",
    "\n",
    "![Transf_Enc](https://drive.google.com/uc?id=1uKWAIAHjwbP_jhSj_AR6UC7LdawDizOn)\n",
    "\n",
    "\n",
    "\n",
    "## 2.3. Transformer Encoder with Multi-Head Self Attention \n",
    "\n",
    "Here we will implement the Transformer Encoder block shown above. \n",
    "\n",
    "Few Points ---\n",
    "\n",
    "1. We still need to define the Multilayer Perceptron (MLP) part. \n",
    "2. What is `Norm` ? How to implement? \n",
    "3. We can clearly see 2 residual connections, which will also be added. \n",
    "\n",
    "\n",
    "**_MLP:_** . To quote from the paper: \n",
    "\n",
    "> The MLP contains two layers with a GELU non-linearity. \n",
    "\n",
    "Check out the Gaussian Error Linear Units [(GELU) paper](https://arxiv.org/abs/1606.08415) and I skip the discussion here. This activation is available within `tf.nn`. The MLP sizes are given in paper and for this simplified implementation we will use much smaller (number of units) `Dense` layers. Since the encoder block repeats, we have to be careful about the number of units in the `Dense` layer because the output dimension have to be compatible with the input for the next `MultiHeadAttention` layer.     \n",
    "\n",
    "**_Norm:_** The Norm in the figure refers to [`LayerNormalization` layer](https://www.tensorflow.org/api_docs/python/tf/keras/layers/LayerNormalization). An excellent visual representation is available in the original [Group Normalization paper](https://arxiv.org/abs/1803.08494). In short, if we consider an input tensor with shape (N, C, H, W), It computes mean and variance $(\\mu_i, \\sigma _i)$ along the (C, H, W) axes. This ensures that computation for an input feature is entirely independent of other input features in a batch.  \n",
    "\n",
    "\n",
    "With these info we are ready to move!\n",
    "\n",
    "\n"
   ]
  },
  {
   "cell_type": "code",
   "execution_count": 12,
   "metadata": {
    "colab": {
     "base_uri": "https://localhost:8080/"
    },
    "executionInfo": {
     "elapsed": 550,
     "status": "ok",
     "timestamp": 1644144707447,
     "user": {
      "displayName": "Swap vi",
      "photoUrl": "https://lh3.googleusercontent.com/a/default-user=s64",
      "userId": "01936573407644251994"
     },
     "user_tz": -540
    },
    "id": "DsR8uHmhFOw4",
    "outputId": "adc438aa-50f7-4b06-fefe-91a99788f962"
   },
   "outputs": [
    {
     "name": "stdout",
     "output_type": "stream",
     "text": [
      "output shape of Encoder block when inputs are the embeddings:  (1, 64, 64)\n"
     ]
    }
   ],
   "source": [
    "# class mlp_block(layers.Layer):\n",
    "#   def __init__(self, mlp_dim):\n",
    "#     super(mlp_block, self).__init__()\n",
    "#     self.mlp_dim = mlp_dim\n",
    "#   def call(self, inputs):\n",
    "#     x = layers.Dense(units=self.mlp_dim, activation=tf.nn.gelu)(inputs)\n",
    "#     x = layers.Dropout(rate=0.1)(x) # dropout rate is from original paper,\n",
    "#     x = layers.Dense(units=inputs.shape[-1], activation=tf.nn.gelu)(x)\n",
    "#     x = layers.Dropout(rate=0.1)(x)\n",
    "#     return x\n",
    "\n",
    "\n",
    "def mlp_block_f(mlp_dim, inputs):\n",
    "  x = layers.Dense(units=mlp_dim, activation=tf.nn.gelu)(inputs)\n",
    "  x = layers.Dropout(rate=0.1)(x) # dropout rate is from original paper,\n",
    "  x = layers.Dense(units=inputs.shape[-1], activation=tf.nn.gelu)(x)\n",
    "  x = layers.Dropout(rate=0.1)(x)\n",
    "  return x\n",
    "\n",
    "# class Encoder1Dblock(layers.Layer):\n",
    "#   def __init__(self, num_heads, mlp_dim):\n",
    "#     super(Encoder1Dblock, self).__init__()\n",
    "#     self.num_heads = num_heads # number of heads in multi-head block\n",
    "#     self.mlp_dim = mlp_dim\n",
    "#   def call(self, inputs):\n",
    "#     x = layers.LayerNormalization(dtype=self.dtype)(inputs)\n",
    "#     x = layers.MultiHeadAttention(num_heads=self.num_heads, key_dim=inputs.shape[-1], dropout=0.1)(x, x) # self attention multi-head, dropout_rate is from original implementation\n",
    "#     x = layers.Add()([x, inputs]) # 1st residual part \n",
    "    \n",
    "    # #### mlp block \n",
    "    # y = layers.LayerNormalization(dtype=self.dtype)(x)\n",
    "    # y = mlp_block(mlp_dim=self.mlp_dim)(y)\n",
    "    # y_1 = layers.Add()([y, x]) #2nd residual part \n",
    "    # return y_1\n",
    "\n",
    "\n",
    "def Encoder1Dblock_f(num_heads, mlp_dim, inputs):\n",
    "  x = layers.LayerNormalization(dtype=inputs.dtype)(inputs)\n",
    "  x = layers.MultiHeadAttention(num_heads=num_heads, key_dim=inputs.shape[-1], dropout=0.1)(x, x) # self attention multi-head, dropout_rate is from original implementation\n",
    "  x = layers.Add()([x, inputs]) # 1st residual part \n",
    "  \n",
    "  y = layers.LayerNormalization(dtype=x.dtype)(x)\n",
    "  y = mlp_block_f(mlp_dim, y)\n",
    "  y_1 = layers.Add()([y, x]) #2nd residual part \n",
    "  return y_1\n",
    "\n",
    "\n",
    "#########################################\n",
    "# test with the embeddings as input\n",
    "#########################################\n",
    "# Encoder1Dblock_layer = Encoder1Dblock(num_heads=4, mlp_dim=32)\n",
    "# Encoder1Dblock_layer_out = Encoder1Dblock_layer(embedded_inp)\n",
    "Encoder1Dblock_layer_out_f = Encoder1Dblock_f(4, 32, embedded_inp)\n",
    "\n",
    "# print ('output shape of Encoder block when inputs are the embeddings: ', Encoder1Dblock_layer_out.shape)\n",
    "print ('output shape of Encoder block when inputs are the embeddings: ', Encoder1Dblock_layer_out_f.shape)"
   ]
  },
  {
   "cell_type": "markdown",
   "metadata": {
    "id": "GFjxJ3xuCQSR"
   },
   "source": [
    "One final point, before combining all these for building the complete ViT, is the usage of `cls` token in the classfication part. This `cls` token is used as image representation and the output of this token is then transformed into a class prediction via a small multi-layer perceptron (MLP) with $\\textrm{tanh}$ as non-linearity in the single hidden layer. \n",
    "\n",
    "But this `cls` token isn't necessary. To quote from the ViT paper\n",
    "\n",
    ">This design is inherited from the Transformer model for text, and we use it throughout the main paper. An initial attempt at using only image-patch embeddings, global average-pooling (GAP) them, followed by a linear classifier—just like ResNet’s final feature map—performed very poorly.\n",
    "However, we found that this is neither due to the extra token, nor to the GAP operation. Instead, the difference in performance is fully explained by the requirement for a different learning-rate. \n",
    "\n",
    "Due to this I will omit using the `cls` token and simply perform the Global Average Pooling (GAP) on the output of the transformer block which will be used as representation of the image. Finally we do the classification using an MLP and categorical cross entropy loss. \n",
    "\n",
    "We will add augmentation as layers and follow the generic `tf.data` pipeline which I've discussed in detail [here](https://towardsdatascience.com/time-to-choose-tensorflow-data-over-imagedatagenerator-215e594f2435). \n",
    "\n",
    "\n",
    "--------------------------------------------------\n",
    "\n",
    "## 3. Build ViT (Model and Model Summary)"
   ]
  },
  {
   "cell_type": "code",
   "execution_count": 13,
   "metadata": {
    "id": "z5FvRGxx0QYs"
   },
   "outputs": [],
   "source": [
    "# explicitly check the implementation with 2 transformer encoder blocks\n",
    "\n",
    "# def build_ViT_Param():\n",
    "#   inputs = layers.Input(shape=train_im.shape[1:])\n",
    "#   # rescaling (normalizing pixel val between 0 and 1)\n",
    "#   rescale = rescale_layer(inputs)\n",
    "#   # augmentation \n",
    "#   augmented = data_augmentation(rescale)\n",
    "#   # generate patches with conv layer\n",
    "#   patches = generate_patch_conv_orgPaper(patch_size=patch_size, hidden_size=hidden_size)(augmented)\n",
    "#   embeddings = AddPositionEmbs(posemb_init=tf.keras.initializers.RandomNormal(stddev=0.02))(patches)\n",
    "#   embeddings = layers.Dropout(rate=0.4)(embeddings)\n",
    "\n",
    "#   ######################################\n",
    "#   # ready for the transformer blocks\n",
    "#   # block 1\n",
    "#   ######################################\n",
    "\n",
    "#   ###############################\n",
    "#   # attention block 1\n",
    "#   ##############################\n",
    "\n",
    "#   x_1 = layers.LayerNormalization(dtype=embeddings.dtype)(embeddings)\n",
    "#   x_1 = layers.MultiHeadAttention(num_heads=num_heads, key_dim=inputs.shape[-1], dropout=0.1)(x_1, x_1) # self attention multi-head, dropout_rate is from original implementation\n",
    "#   x_1 = layers.Add()([x_1, embeddings]) # 1st residual part \n",
    "    \n",
    "#   #### mlp block 1\n",
    "#   y_1 = layers.LayerNormalization(dtype=x_1.dtype)(x_1)\n",
    "#   x_2 = layers.Dense(units=mlp_dim, activation='relu')(y_1)\n",
    "#   x_2 = layers.Dropout(rate=0.1)(x_2) # dropout rate is from original paper,\n",
    "#   x_2 = layers.Dense(units=y_1.shape[-1], activation=tf.nn.gelu)(x_2)\n",
    "#   x_2 = layers.Dropout(rate=0.1)(x_2)\n",
    "#   y_2 = layers.Add()([x_1, x_2]) #2nd residual part\n",
    "\n",
    "#   # ######################################\n",
    "#   # # ready for the transformer blocks\n",
    "#   # # block 2\n",
    "#   # ######################################\n",
    "\n",
    "#   # ###############################\n",
    "#   # # attention block 2\n",
    "#   # ##############################\n",
    "\n",
    "#   x_3 = layers.LayerNormalization(dtype=y_2.dtype)(y_2)\n",
    "#   x_3 = layers.MultiHeadAttention(num_heads=num_heads, key_dim=inputs.shape[-1], dropout=0.1)(x_3, x_3) # self attention multi-head, dropout_rate is from original implementation\n",
    "#   x_3 = layers.Add()([x_3, y_2]) # 1st residual part \n",
    "    \n",
    "#   # #### mlp block 2\n",
    "#   y_3 = layers.LayerNormalization(dtype=x_2.dtype)(x_3)\n",
    "#   x_4 = layers.Dense(units=mlp_dim, activation=tf.nn.gelu)(y_3)\n",
    "#   x_4 = layers.Dropout(rate=0.1)(x_4) # dropout rate is from original paper,\n",
    "#   x_4 = layers.Dense(units=y_3.shape[-1], activation=tf.nn.gelu)(x_4)\n",
    "#   x_4 = layers.Dropout(rate=0.1)(x_4)\n",
    "#   y_4 = layers.Add()([x_3, x_4]) #2nd residual part\n",
    "\n",
    "#   encoder_out = layers.LayerNormalization()(y_4)  \n",
    "\n",
    "#   # #####################################\n",
    "#   # #  final part (mlp to classification)\n",
    "#   # #####################################\n",
    "#   # #encoder_out_rank = int(tf.experimental.numpy.ndim(encoder_out))\n",
    "#   im_representation = tf.reduce_mean(encoder_out, axis=1)  # (1,) or (1,2)\n",
    "\n",
    "#   logits = layers.Dense(units=len(class_types), name='head', kernel_initializer=tf.keras.initializers.zeros)(im_representation) # !!! important !!! activation is linear \n",
    "\n",
    "#   final_model = tf.keras.Model(inputs = inputs, outputs = logits)\n",
    "\n",
    "#   return final_model\n",
    "\n",
    "\n",
    "# vit_model_params = build_ViT_Param()\n",
    "# vit_model_params.summary()"
   ]
  },
  {
   "cell_type": "code",
   "execution_count": 14,
   "metadata": {
    "id": "2I3rAR-NSNfT"
   },
   "outputs": [],
   "source": [
    "### augment train but not test \n",
    "\n",
    "rescale_layer = tf.keras.Sequential([layers.experimental.preprocessing.Rescaling(1./255)])\n",
    "\n",
    "data_augmentation = tf.keras.Sequential([\n",
    "  layers.experimental.preprocessing.RandomFlip(\"horizontal_and_vertical\"),\n",
    "  layers.experimental.preprocessing.RandomRotation(0.2), \n",
    "  layers.experimental.preprocessing.RandomZoom(height_factor=(0.2, 0.3), width_factor=(0.2, 0.3)),\n",
    "  layers.experimental.preprocessing.RandomTranslation(0.3, 0.3, fill_mode='reflect', interpolation='bilinear',)\n",
    "])\n",
    "\n",
    "\n",
    "train_ds = (training_data.shuffle(40000).batch(128).map(lambda x, y: (data_augmentation(x), y), num_parallel_calls=autotune).prefetch(autotune))\n",
    "valid_ds = (validation_data.shuffle(10000).batch(32).prefetch(autotune))\n"
   ]
  },
  {
   "cell_type": "code",
   "execution_count": null,
   "metadata": {
    "id": "uiE2g2ntiyqI"
   },
   "outputs": [],
   "source": []
  },
  {
   "cell_type": "code",
   "execution_count": 15,
   "metadata": {
    "colab": {
     "base_uri": "https://localhost:8080/"
    },
    "executionInfo": {
     "elapsed": 1384,
     "status": "ok",
     "timestamp": 1644144734034,
     "user": {
      "displayName": "Swap vi",
      "photoUrl": "https://lh3.googleusercontent.com/a/default-user=s64",
      "userId": "01936573407644251994"
     },
     "user_tz": -540
    },
    "id": "4itznfBcnWS0",
    "outputId": "476c979f-cf96-41b4-8194-6ffc5d84a0fd"
   },
   "outputs": [
    {
     "name": "stdout",
     "output_type": "stream",
     "text": [
      "Model: \"model\"\n",
      "__________________________________________________________________________________________________\n",
      " Layer (type)                   Output Shape         Param #     Connected to                     \n",
      "==================================================================================================\n",
      " input_1 (InputLayer)           [(None, 32, 32, 3)]  0           []                               \n",
      "                                                                                                  \n",
      " sequential (Sequential)        (None, 32, 32, 3)    0           ['input_1[0][0]']                \n",
      "                                                                                                  \n",
      " conv2d_2 (Conv2D)              (None, 8, 8, 64)     3136        ['sequential[0][0]']             \n",
      "                                                                                                  \n",
      " tf.reshape (TFOpLambda)        (None, 64, 64)       0           ['conv2d_2[0][0]']               \n",
      "                                                                                                  \n",
      " posembed_input (AddPositionEmb  (None, 64, 64)      4096        ['tf.reshape[0][0]']             \n",
      " s)                                                                                               \n",
      "                                                                                                  \n",
      " dropout_3 (Dropout)            (None, 64, 64)       0           ['posembed_input[0][0]']         \n",
      "                                                                                                  \n",
      " layer_normalization_2 (LayerNo  (None, 64, 64)      128         ['dropout_3[0][0]']              \n",
      " rmalization)                                                                                     \n",
      "                                                                                                  \n",
      " multi_head_attention_1 (MultiH  (None, 64, 64)      66368       ['layer_normalization_2[0][0]',  \n",
      " eadAttention)                                                    'layer_normalization_2[0][0]']  \n",
      "                                                                                                  \n",
      " add_2 (Add)                    (None, 64, 64)       0           ['multi_head_attention_1[0][0]', \n",
      "                                                                  'dropout_3[0][0]']              \n",
      "                                                                                                  \n",
      " layer_normalization_3 (LayerNo  (None, 64, 64)      128         ['add_2[0][0]']                  \n",
      " rmalization)                                                                                     \n",
      "                                                                                                  \n",
      " dense_3 (Dense)                (None, 64, 128)      8320        ['layer_normalization_3[0][0]']  \n",
      "                                                                                                  \n",
      " dropout_4 (Dropout)            (None, 64, 128)      0           ['dense_3[0][0]']                \n",
      "                                                                                                  \n",
      " dense_4 (Dense)                (None, 64, 64)       8256        ['dropout_4[0][0]']              \n",
      "                                                                                                  \n",
      " dropout_5 (Dropout)            (None, 64, 64)       0           ['dense_4[0][0]']                \n",
      "                                                                                                  \n",
      " add_3 (Add)                    (None, 64, 64)       0           ['dropout_5[0][0]',              \n",
      "                                                                  'add_2[0][0]']                  \n",
      "                                                                                                  \n",
      " layer_normalization_4 (LayerNo  (None, 64, 64)      128         ['add_3[0][0]']                  \n",
      " rmalization)                                                                                     \n",
      "                                                                                                  \n",
      " multi_head_attention_2 (MultiH  (None, 64, 64)      66368       ['layer_normalization_4[0][0]',  \n",
      " eadAttention)                                                    'layer_normalization_4[0][0]']  \n",
      "                                                                                                  \n",
      " add_4 (Add)                    (None, 64, 64)       0           ['multi_head_attention_2[0][0]', \n",
      "                                                                  'add_3[0][0]']                  \n",
      "                                                                                                  \n",
      " layer_normalization_5 (LayerNo  (None, 64, 64)      128         ['add_4[0][0]']                  \n",
      " rmalization)                                                                                     \n",
      "                                                                                                  \n",
      " dense_5 (Dense)                (None, 64, 128)      8320        ['layer_normalization_5[0][0]']  \n",
      "                                                                                                  \n",
      " dropout_6 (Dropout)            (None, 64, 128)      0           ['dense_5[0][0]']                \n",
      "                                                                                                  \n",
      " dense_6 (Dense)                (None, 64, 64)       8256        ['dropout_6[0][0]']              \n",
      "                                                                                                  \n",
      " dropout_7 (Dropout)            (None, 64, 64)       0           ['dense_6[0][0]']                \n",
      "                                                                                                  \n",
      " add_5 (Add)                    (None, 64, 64)       0           ['dropout_7[0][0]',              \n",
      "                                                                  'add_4[0][0]']                  \n",
      "                                                                                                  \n",
      " layer_normalization_6 (LayerNo  (None, 64, 64)      128         ['add_5[0][0]']                  \n",
      " rmalization)                                                                                     \n",
      "                                                                                                  \n",
      " multi_head_attention_3 (MultiH  (None, 64, 64)      66368       ['layer_normalization_6[0][0]',  \n",
      " eadAttention)                                                    'layer_normalization_6[0][0]']  \n",
      "                                                                                                  \n",
      " add_6 (Add)                    (None, 64, 64)       0           ['multi_head_attention_3[0][0]', \n",
      "                                                                  'add_5[0][0]']                  \n",
      "                                                                                                  \n",
      " layer_normalization_7 (LayerNo  (None, 64, 64)      128         ['add_6[0][0]']                  \n",
      " rmalization)                                                                                     \n",
      "                                                                                                  \n",
      " dense_7 (Dense)                (None, 64, 128)      8320        ['layer_normalization_7[0][0]']  \n",
      "                                                                                                  \n",
      " dropout_8 (Dropout)            (None, 64, 128)      0           ['dense_7[0][0]']                \n",
      "                                                                                                  \n",
      " dense_8 (Dense)                (None, 64, 64)       8256        ['dropout_8[0][0]']              \n",
      "                                                                                                  \n",
      " dropout_9 (Dropout)            (None, 64, 64)       0           ['dense_8[0][0]']                \n",
      "                                                                                                  \n",
      " add_7 (Add)                    (None, 64, 64)       0           ['dropout_9[0][0]',              \n"
     ]
    },
    {
     "name": "stdout",
     "output_type": "stream",
     "text": [
      "                                                                  'add_6[0][0]']                  \n",
      "                                                                                                  \n",
      " layer_normalization_8 (LayerNo  (None, 64, 64)      128         ['add_7[0][0]']                  \n",
      " rmalization)                                                                                     \n",
      "                                                                                                  \n",
      " multi_head_attention_4 (MultiH  (None, 64, 64)      66368       ['layer_normalization_8[0][0]',  \n",
      " eadAttention)                                                    'layer_normalization_8[0][0]']  \n",
      "                                                                                                  \n",
      " add_8 (Add)                    (None, 64, 64)       0           ['multi_head_attention_4[0][0]', \n",
      "                                                                  'add_7[0][0]']                  \n",
      "                                                                                                  \n",
      " layer_normalization_9 (LayerNo  (None, 64, 64)      128         ['add_8[0][0]']                  \n",
      " rmalization)                                                                                     \n",
      "                                                                                                  \n",
      " dense_9 (Dense)                (None, 64, 128)      8320        ['layer_normalization_9[0][0]']  \n",
      "                                                                                                  \n",
      " dropout_10 (Dropout)           (None, 64, 128)      0           ['dense_9[0][0]']                \n",
      "                                                                                                  \n",
      " dense_10 (Dense)               (None, 64, 64)       8256        ['dropout_10[0][0]']             \n",
      "                                                                                                  \n",
      " dropout_11 (Dropout)           (None, 64, 64)       0           ['dense_10[0][0]']               \n",
      "                                                                                                  \n",
      " add_9 (Add)                    (None, 64, 64)       0           ['dropout_11[0][0]',             \n",
      "                                                                  'add_8[0][0]']                  \n",
      "                                                                                                  \n",
      " layer_normalization_10 (LayerN  (None, 64, 64)      128         ['add_9[0][0]']                  \n",
      " ormalization)                                                                                    \n",
      "                                                                                                  \n",
      " multi_head_attention_5 (MultiH  (None, 64, 64)      66368       ['layer_normalization_10[0][0]', \n",
      " eadAttention)                                                    'layer_normalization_10[0][0]'] \n",
      "                                                                                                  \n",
      " add_10 (Add)                   (None, 64, 64)       0           ['multi_head_attention_5[0][0]', \n",
      "                                                                  'add_9[0][0]']                  \n",
      "                                                                                                  \n",
      " layer_normalization_11 (LayerN  (None, 64, 64)      128         ['add_10[0][0]']                 \n",
      " ormalization)                                                                                    \n",
      "                                                                                                  \n",
      " dense_11 (Dense)               (None, 64, 128)      8320        ['layer_normalization_11[0][0]'] \n",
      "                                                                                                  \n",
      " dropout_12 (Dropout)           (None, 64, 128)      0           ['dense_11[0][0]']               \n",
      "                                                                                                  \n",
      " dense_12 (Dense)               (None, 64, 64)       8256        ['dropout_12[0][0]']             \n",
      "                                                                                                  \n",
      " dropout_13 (Dropout)           (None, 64, 64)       0           ['dense_12[0][0]']               \n",
      "                                                                                                  \n",
      " add_11 (Add)                   (None, 64, 64)       0           ['dropout_13[0][0]',             \n",
      "                                                                  'add_10[0][0]']                 \n",
      "                                                                                                  \n",
      " layer_normalization_12 (LayerN  (None, 64, 64)      128         ['add_11[0][0]']                 \n",
      " ormalization)                                                                                    \n",
      "                                                                                                  \n",
      " multi_head_attention_6 (MultiH  (None, 64, 64)      66368       ['layer_normalization_12[0][0]', \n",
      " eadAttention)                                                    'layer_normalization_12[0][0]'] \n",
      "                                                                                                  \n",
      " add_12 (Add)                   (None, 64, 64)       0           ['multi_head_attention_6[0][0]', \n",
      "                                                                  'add_11[0][0]']                 \n",
      "                                                                                                  \n",
      " layer_normalization_13 (LayerN  (None, 64, 64)      128         ['add_12[0][0]']                 \n",
      " ormalization)                                                                                    \n",
      "                                                                                                  \n",
      " dense_13 (Dense)               (None, 64, 128)      8320        ['layer_normalization_13[0][0]'] \n",
      "                                                                                                  \n",
      " dropout_14 (Dropout)           (None, 64, 128)      0           ['dense_13[0][0]']               \n",
      "                                                                                                  \n",
      " dense_14 (Dense)               (None, 64, 64)       8256        ['dropout_14[0][0]']             \n",
      "                                                                                                  \n",
      " dropout_15 (Dropout)           (None, 64, 64)       0           ['dense_14[0][0]']               \n",
      "                                                                                                  \n",
      " add_13 (Add)                   (None, 64, 64)       0           ['dropout_15[0][0]',             \n",
      "                                                                  'add_12[0][0]']                 \n",
      "                                                                                                  \n",
      " encoder_norm (LayerNormalizati  (None, 64, 64)      128         ['add_13[0][0]']                 \n",
      " on)                                                                                              \n",
      "                                                                                                  \n",
      " tf.math.reduce_mean (TFOpLambd  (None, 64)          0           ['encoder_norm[0][0]']           \n",
      " a)                                                                                               \n",
      "                                                                                                  \n",
      " head (Dense)                   (None, 10)           650         ['tf.math.reduce_mean[0][0]']    \n",
      "                                                                                                  \n",
      "==================================================================================================\n",
      "Total params: 507,210\n",
      "Trainable params: 507,210\n",
      "Non-trainable params: 0\n",
      "__________________________________________________________________________________________________\n"
     ]
    }
   ],
   "source": [
    "# class Encoder(layers.Layer):\n",
    "#   def __init__(self, num_layers, mlp_dim, num_heads):\n",
    "#     super(Encoder, self).__init__()\n",
    "#     self.num_layers = num_layers # number of times encoder repeats\n",
    "#     self.mlp_dim = mlp_dim\n",
    "#     self.num_heads = num_heads\n",
    "\n",
    "#   def call(self, inputs):\n",
    "#     x = AddPositionEmbs(posemb_init=tf.keras.initializers.RandomNormal(stddev=0.02), name='posembed_input')(inputs)\n",
    "#     x = layers.Dropout(rate=0.2)(x)\n",
    "#     for _ in range(self.num_layers):\n",
    "#       x = Encoder1Dblock(mlp_dim=self.mlp_dim, num_heads=self.num_heads)(x)\n",
    "\n",
    "#     encoded = layers.LayerNormalization(name='encoder_norm')(x)\n",
    "#     return encoded\n",
    "\n",
    "\n",
    "def Encoder_f(num_layers, mlp_dim, num_heads, inputs):\n",
    "  x = AddPositionEmbs(posemb_init=tf.keras.initializers.RandomNormal(stddev=0.02), name='posembed_input')(inputs)\n",
    "  x = layers.Dropout(rate=0.2)(x)\n",
    "  for _ in range(num_layers):\n",
    "    x = Encoder1Dblock_f(num_heads, mlp_dim, x)\n",
    "\n",
    "  encoded = layers.LayerNormalization(name='encoder_norm')(x)\n",
    "  return encoded\n",
    "\n",
    "\n",
    "\n",
    "\n",
    "######################################\n",
    "# hyperparameter section \n",
    "###################################### \n",
    "transformer_layers = 6\n",
    "patch_size = 4\n",
    "hidden_size = 64\n",
    "num_heads = 4\n",
    "mlp_dim = 128\n",
    "\n",
    "######################################\n",
    "\n",
    "\n",
    "\n",
    "\n",
    "def build_ViT():\n",
    "  inputs = layers.Input(shape=train_im.shape[1:])\n",
    "  # rescaling (normalizing pixel val between 0 and 1)\n",
    "  rescale = rescale_layer(inputs)\n",
    "  # augmentation \n",
    "  # augmented = data_augmentation(rescale)\n",
    "  # generate patches with conv layer\n",
    "  patches = generate_patch_conv_orgPaper_f(patch_size, hidden_size, rescale)\n",
    "\n",
    "  ######################################\n",
    "  # ready for the transformer blocks\n",
    "  ######################################\n",
    "  encoder_out = Encoder_f(transformer_layers, mlp_dim, num_heads, patches)  \n",
    "\n",
    "  #####################################\n",
    "  #  final part (mlp to classification)\n",
    "  #####################################\n",
    "  #encoder_out_rank = int(tf.experimental.numpy.ndim(encoder_out))\n",
    "  im_representation = tf.reduce_mean(encoder_out, axis=1)  # (1,) or (1,2)\n",
    "\n",
    "  logits = layers.Dense(units=len(class_types), name='head', kernel_initializer=tf.keras.initializers.zeros)(im_representation) # !!! important !!! activation is linear \n",
    "\n",
    "  final_model = tf.keras.Model(inputs = inputs, outputs = logits)\n",
    "  return final_model\n",
    "\n",
    "\n",
    "\n",
    "ViT_model = build_ViT()\n",
    "ViT_model.summary()"
   ]
  },
  {
   "cell_type": "code",
   "execution_count": 16,
   "metadata": {
    "colab": {
     "base_uri": "https://localhost:8080/",
     "height": 1000
    },
    "executionInfo": {
     "elapsed": 2537,
     "status": "ok",
     "timestamp": 1644144740615,
     "user": {
      "displayName": "Swap vi",
      "photoUrl": "https://lh3.googleusercontent.com/a/default-user=s64",
      "userId": "01936573407644251994"
     },
     "user_tz": -540
    },
    "id": "506pV3ly8GOm",
    "outputId": "027148c0-3255-4eb4-a35c-860c8b014e6e"
   },
   "outputs": [
    {
     "name": "stdout",
     "output_type": "stream",
     "text": [
      "You must install pydot (`pip install pydot`) and install graphviz (see instructions at https://graphviz.gitlab.io/download/) for plot_model/model_to_dot to work.\n"
     ]
    }
   ],
   "source": [
    "tf.keras.utils.plot_model(ViT_model, rankdir='TB')"
   ]
  },
  {
   "cell_type": "markdown",
   "metadata": {
    "id": "55cWBC4P87oY"
   },
   "source": [
    "## 3.1. Model Compile "
   ]
  },
  {
   "cell_type": "code",
   "execution_count": null,
   "metadata": {
    "colab": {
     "base_uri": "https://localhost:8080/"
    },
    "executionInfo": {
     "elapsed": 7909920,
     "status": "ok",
     "timestamp": 1644152655568,
     "user": {
      "displayName": "Swap vi",
      "photoUrl": "https://lh3.googleusercontent.com/a/default-user=s64",
      "userId": "01936573407644251994"
     },
     "user_tz": -540
    },
    "id": "1GtczmxbrMsN",
    "outputId": "1de99926-9224-452e-c45f-613bb7280cc7"
   },
   "outputs": [
    {
     "name": "stdout",
     "output_type": "stream",
     "text": [
      "Epoch 1/120\n",
      " 86/313 [=======>......................] - ETA: 2:41 - loss: 2.1451 - accuracy: 0.1793 - top5 acc: 0.6953"
     ]
    }
   ],
   "source": [
    "### model \n",
    "\n",
    "ViT_model.compile(optimizer=tf.keras.optimizers.Adam(learning_rate=2e-3), \n",
    "                  loss = tf.keras.losses.CategoricalCrossentropy(from_logits=True), \n",
    "                  metrics=[tf.keras.metrics.CategoricalAccuracy(name=\"accuracy\"), tf.keras.metrics.TopKCategoricalAccuracy(k=5, name='top5 acc')]) \n",
    "#tf.keras.metrics.SparseTopKCategoricalAccuracy(5, name=\"top-5-accuracy\")],) \n",
    "# from logits = True, because Dense layer has linear activation\n",
    "\n",
    "\n",
    "reduce_lr = tf.keras.callbacks.ReduceLROnPlateau(monitor='val_loss', factor=0.8,\n",
    "                              patience=5, min_lr=1e-5, verbose=1)\n",
    "\n",
    "\n",
    "ViT_Train = ViT_model.fit(train_ds, \n",
    "                        epochs = 120, \n",
    "                        validation_data=valid_ds, callbacks=[reduce_lr])"
   ]
  },
  {
   "cell_type": "code",
   "execution_count": null,
   "metadata": {
    "colab": {
     "base_uri": "https://localhost:8080/",
     "height": 297
    },
    "executionInfo": {
     "elapsed": 2304,
     "status": "ok",
     "timestamp": 1644153046402,
     "user": {
      "displayName": "Swap vi",
      "photoUrl": "https://lh3.googleusercontent.com/a/default-user=s64",
      "userId": "01936573407644251994"
     },
     "user_tz": -540
    },
    "id": "f6a5dQEUE_bu",
    "outputId": "2a831c86-28dd-4841-b948-038fc881c4d6"
   },
   "outputs": [],
   "source": [
    "### Plot train and validation curves\n",
    "loss = ViT_Train.history['loss']\n",
    "v_loss = ViT_Train.history['val_loss']\n",
    "\n",
    "acc = ViT_Train.history['accuracy'] \n",
    "v_acc = ViT_Train.history['val_accuracy']\n",
    "\n",
    "top5_acc = ViT_Train.history['top5 acc']\n",
    "val_top5_acc = ViT_Train.history['val_top5 acc']\n",
    "epochs = range(len(loss))\n",
    "\n",
    "fig = plt.figure(figsize=(12, 4))\n",
    "plt.subplot(1, 3, 1)\n",
    "plt.yscale('log')\n",
    "plt.plot(epochs, loss, linestyle='--', linewidth=3, color='orange', alpha=0.7, label='Train Loss')\n",
    "plt.plot(epochs, v_loss, linestyle='-.', linewidth=2, color='lime', alpha=0.8, label='Valid Loss')\n",
    "# plt.ylim(0.3, 100)\n",
    "plt.xlabel('Epochs', fontsize=11)\n",
    "plt.ylabel('Loss', fontsize=12)\n",
    "plt.legend(fontsize=12)\n",
    "plt.subplot(1, 3, 2)\n",
    "plt.plot(epochs, acc, linestyle='--', linewidth=3, color='orange', alpha=0.7, label='Train Acc')\n",
    "plt.plot(epochs, v_acc, linestyle='-.', linewidth=2, color='lime', alpha=0.8, label='Valid Acc') \n",
    "plt.xlabel('Epochs', fontsize=11)\n",
    "plt.ylabel('Accuracy', fontsize=12)\n",
    "plt.legend(fontsize=12)\n",
    "plt.subplot(1, 3, 3)\n",
    "plt.plot(epochs, top5_acc, linestyle='--', linewidth=3, color='orange', alpha=0.7, label='Train Top 5 Acc')\n",
    "plt.plot(epochs, val_top5_acc, linestyle='-.', linewidth=2, color='lime', alpha=0.8, label='Valid Top5 Acc') \n",
    "plt.xlabel('Epochs', fontsize=11)\n",
    "plt.ylabel('Top5 Accuracy', fontsize=12)\n",
    "plt.legend(fontsize=12)\n",
    "plt.tight_layout()\n",
    "# plt.savefig('/content/gdrive/My Drive/Colab Notebooks/resnet/train_acc.png', dpi=250)\n",
    "plt.show()"
   ]
  },
  {
   "cell_type": "code",
   "execution_count": null,
   "metadata": {
    "id": "9cB9myn-JBVS"
   },
   "outputs": [],
   "source": [
    "from sklearn.metrics import confusion_matrix, classification_report\n",
    "import seaborn as sns\n",
    "\n",
    "def conf_matrix(predictions): \n",
    "    ''' Plots conf. matrix and classification report '''\n",
    "    cm=confusion_matrix(y_test, np.argmax(np.round(predictions), axis=1))\n",
    "    print(\"Classification Report:\\n\")\n",
    "    cr=classification_report(y_test,\n",
    "                                np.argmax(np.round(predictions), axis=1), \n",
    "                                target_names=[class_types[i] for i in range(len(class_types))])\n",
    "    print(cr)\n",
    "    plt.figure(figsize=(12,12))\n",
    "    sns_hmp = sns.heatmap(cm, annot=True, xticklabels = [class_types[i] for i in range(len(class_types))], \n",
    "                yticklabels = [class_types[i] for i in range(len(class_types))], fmt=\"d\")\n",
    "    fig = sns_hmp.get_figure()\n",
    "    # fig.savefig('/content/gdrive/My Drive/Colab Notebooks/resnet/heatmap.png', dpi=250)"
   ]
  },
  {
   "cell_type": "code",
   "execution_count": null,
   "metadata": {
    "colab": {
     "base_uri": "https://localhost:8080/",
     "height": 1000
    },
    "executionInfo": {
     "elapsed": 8702,
     "status": "ok",
     "timestamp": 1644152778123,
     "user": {
      "displayName": "Swap vi",
      "photoUrl": "https://lh3.googleusercontent.com/a/default-user=s64",
      "userId": "01936573407644251994"
     },
     "user_tz": -540
    },
    "id": "QkMZ50C7JfsB",
    "outputId": "83d9d1b7-1870-4afb-dc93-4d27122cd87f"
   },
   "outputs": [],
   "source": [
    "pred_class_resnet50 = ViT_model.predict(x_test)\n",
    "\n",
    "conf_matrix(pred_class_resnet50)"
   ]
  },
  {
   "cell_type": "code",
   "execution_count": null,
   "metadata": {
    "id": "nQPF2clcJzcP"
   },
   "outputs": [],
   "source": []
  },
  {
   "cell_type": "code",
   "execution_count": null,
   "metadata": {},
   "outputs": [],
   "source": []
  }
 ],
 "metadata": {
  "accelerator": "GPU",
  "colab": {
   "authorship_tag": "ABX9TyNxuQ9acEiQ/1mCMRpLMClm",
   "collapsed_sections": [],
   "name": "Understand&Implement_VIT_TensorFlow.ipynb",
   "provenance": []
  },
  "kernelspec": {
   "display_name": "Python 3 (ipykernel)",
   "language": "python",
   "name": "python3"
  },
  "language_info": {
   "codemirror_mode": {
    "name": "ipython",
    "version": 3
   },
   "file_extension": ".py",
   "mimetype": "text/x-python",
   "name": "python",
   "nbconvert_exporter": "python",
   "pygments_lexer": "ipython3",
   "version": "3.7.0"
  }
 },
 "nbformat": 4,
 "nbformat_minor": 1
}
